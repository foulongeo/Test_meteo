{
 "cells": [
  {
   "cell_type": "markdown",
   "id": "39595481",
   "metadata": {},
   "source": [
    "##  <font color = \"navy\">WEATHER FORECAST IN AUSTRALIA: Modélisation deep learning</font>\n",
    "Notebook <b>3/3</b>\n",
    "***\n",
    "\n",
    "<font color = \"purple\"><b>Objectif: Réaliser un modèle de deep learning capable de détecter les jours de pluie à J+1 avec une précision satisfaisante.</b></font>\n",
    "\n",
    "<b> Résumé du notebook : </b>\n",
    "- Data cleaning, preprocessing des données (notamment encodage, et rééquilibrage) ;\n",
    "- Modélisation deep learning ;\n",
    "- Essai d'amélioration des performances du modèle."
   ]
  },
  {
   "cell_type": "code",
   "execution_count": 1,
   "id": "fa18c0ac",
   "metadata": {},
   "outputs": [],
   "source": [
    "import pandas as pd\n",
    "import numpy as np\n",
    "import matplotlib.pyplot as plt\n",
    "import seaborn as sns\n",
    "import matplotlib.patches as mpatches\n",
    "import warnings\n",
    "from sklearn.preprocessing import LabelEncoder\n",
    "from IPython.display import Markdown, display\n",
    "warnings.filterwarnings('ignore')\n",
    "sns.set_theme({'legend.frameon':True})\n",
    "from tensorflow.keras.layers import Input, Dense \n",
    "from tensorflow.keras.models import Model\n",
    "import itertools \n",
    "from sklearn import metrics\n",
    "from sklearn.model_selection import train_test_split, cross_val_score\n",
    "from sklearn import ensemble\n",
    "from sklearn.preprocessing import StandardScaler\n",
    "from sklearn.metrics import classification_report, confusion_matrix\n",
    "\n",
    "#pip install --upgrade tensorflow\n",
    "#pip install pydot\n",
    "#pip install graphviz"
   ]
  },
  {
   "cell_type": "code",
   "execution_count": 2,
   "id": "9c250722",
   "metadata": {},
   "outputs": [],
   "source": [
    "#Import d'une version prête à l'emploi (preprocessing: Cf notebook 2/4)\n",
    "data = pd.read_csv(\"weatherAUS_DL.csv\")\n",
    "\n",
    "#Création d'un df de secours pour avoir une trace des données brutes.\n",
    "\n",
    "df_saved = pd.read_csv(\"weatherAUS_DL.csv\")\n",
    "\n",
    "pd.set_option(\"display.max_columns\", None)\n",
    "\n",
    "feats = data.drop([\"RainTomorrow\", \"Date\", \"Year\", \"Month\", \"Day\", \"State\", \"Location\"], axis = 1)\n",
    "target = data[\"RainTomorrow\"]\n",
    "encoder = LabelEncoder()\n",
    "\n",
    "Y = encoder.fit_transform(target)\n",
    "\n",
    "X_train, X_test, y_train, y_test = train_test_split(feats, Y, test_size = 0.2, random_state = 55) \n",
    "\n",
    "scaler = StandardScaler()\n",
    "scaler.fit(X_train)\n",
    "X_train_scaled = scaler.transform(X_train)\n",
    "X_test_scaled = scaler.transform(X_test)"
   ]
  },
  {
   "cell_type": "code",
   "execution_count": 3,
   "id": "8ceac83b",
   "metadata": {
    "scrolled": false
   },
   "outputs": [
    {
     "data": {
      "text/markdown": [
       "<h2><center><u>Réalisation d'un premier modèle de deep learning</u></h2></center>\n",
       "<h4><u>Entrainement du modèle :</u></h4>"
      ],
      "text/plain": [
       "<IPython.core.display.Markdown object>"
      ]
     },
     "metadata": {},
     "output_type": "display_data"
    },
    {
     "name": "stdout",
     "output_type": "stream",
     "text": [
      "Epoch 1/6\n",
      "3229/3229 [==============================] - 3s 926us/step - loss: 0.3535 - accuracy: 0.8469 - val_loss: 0.3416 - val_accuracy: 0.8529\n",
      "Epoch 2/6\n",
      "3229/3229 [==============================] - 3s 877us/step - loss: 0.3447 - accuracy: 0.8509 - val_loss: 0.3368 - val_accuracy: 0.8539\n",
      "Epoch 3/6\n",
      "3229/3229 [==============================] - 3s 873us/step - loss: 0.3420 - accuracy: 0.8516 - val_loss: 0.3344 - val_accuracy: 0.8550\n",
      "Epoch 4/6\n",
      "3229/3229 [==============================] - 3s 888us/step - loss: 0.3402 - accuracy: 0.8531 - val_loss: 0.3333 - val_accuracy: 0.8563\n",
      "Epoch 5/6\n",
      "3229/3229 [==============================] - 3s 881us/step - loss: 0.3388 - accuracy: 0.8531 - val_loss: 0.3328 - val_accuracy: 0.8569\n",
      "Epoch 6/6\n",
      "3229/3229 [==============================] - 3s 879us/step - loss: 0.3373 - accuracy: 0.8537 - val_loss: 0.3356 - val_accuracy: 0.8544\n",
      "808/808 [==============================] - 0s 599us/step - loss: 0.3356 - accuracy: 0.8544\n",
      "[0.3356141746044159, 0.8544102907180786]\n"
     ]
    },
    {
     "data": {
      "text/markdown": [
       "<h4><u>Récapitulatif du modèle :</u></h4>\n",
       "Ce premier modèle avait 2 couches denses :\n",
       "<ul><li>la première avec <b>25 neurones</b> et une fonction d'activation <b>relu</b> ;</li>\n",
       "<li> la seconde avec <b>50 neurones</b> et une fonction d'activation <b>relu</b> ;</li>\n",
       "<li> la couche de sortie comportait <b>2 neurones</b> et une fonction d'activation <b>softmax</b> ;</li>\n",
       "<li> apprentissage sur <b>6 epochs</b> par batch de <b>32</b>.</li></ul>\n"
      ],
      "text/plain": [
       "<IPython.core.display.Markdown object>"
      ]
     },
     "metadata": {},
     "output_type": "display_data"
    },
    {
     "name": "stdout",
     "output_type": "stream",
     "text": [
      "Model: \"model\"\n",
      "_________________________________________________________________\n",
      " Layer (type)                Output Shape              Param #   \n",
      "=================================================================\n",
      " Input (InputLayer)          [(None, 22)]              0         \n",
      "                                                                 \n",
      " Dense_1 (Dense)             (None, 25)                575       \n",
      "                                                                 \n",
      " Dense_2 (Dense)             (None, 50)                1300      \n",
      "                                                                 \n",
      " Dense_3 (Dense)             (None, 2)                 102       \n",
      "                                                                 \n",
      "=================================================================\n",
      "Total params: 1,977\n",
      "Trainable params: 1,977\n",
      "Non-trainable params: 0\n",
      "_________________________________________________________________\n"
     ]
    },
    {
     "data": {
      "text/markdown": [
       "<h4><u>Résultats du modèle :</h4></u>\n",
       "<ul><li> Prédiction des <b>jours de pluie</b> avec une précision de <b>70.46 %</b> (<i>recall = <b>56.08 %</b></i>) ;</li>\n",
       "<li> Prédiction des <b>jours sans pluie</b> avec une précision de <b>88.55 %</b> (<i>recall = <b>93.53 %</b></i>) ;</li>\n",
       "<li>La précision globale du modèle est de <b>85.44 %</b>.</li></ul>\n",
       "Les paramètres de ce premier modèle ont été fixés de façon plus ou moins arbritraire. Les \n",
       "performances de ce modèle sont globalement satisfaisantes, voire très satisfaisantes pour la détection des jours sans pluie.\n",
       "Il serait toutefois intéressant d'améliorer la prédiction de jours de pluie.\n"
      ],
      "text/plain": [
       "<IPython.core.display.Markdown object>"
      ]
     },
     "metadata": {},
     "output_type": "display_data"
    },
    {
     "data": {
      "text/markdown": [
       "<i><h5>Rapport de classification :</h5></i>"
      ],
      "text/plain": [
       "<IPython.core.display.Markdown object>"
      ]
     },
     "metadata": {},
     "output_type": "display_data"
    },
    {
     "name": "stdout",
     "output_type": "stream",
     "text": [
      "              precision    recall  f1-score   support\n",
      "\n",
      "           0       0.89      0.94      0.91     20250\n",
      "           1       0.70      0.56      0.62      5576\n",
      "\n",
      "    accuracy                           0.85     25826\n",
      "   macro avg       0.80      0.75      0.77     25826\n",
      "weighted avg       0.85      0.85      0.85     25826\n",
      "\n"
     ]
    },
    {
     "data": {
      "text/markdown": [
       "<i><h5>Matrice de confusion :</h5></i>"
      ],
      "text/plain": [
       "<IPython.core.display.Markdown object>"
      ]
     },
     "metadata": {},
     "output_type": "display_data"
    },
    {
     "name": "stdout",
     "output_type": "stream",
     "text": [
      "Prédiction      0     1\n",
      "Réel                   \n",
      "0           18939  1311\n",
      "1            2449  3127\n"
     ]
    }
   ],
   "source": [
    "display(Markdown(\"\"\"<h2><center><u>Réalisation d'un premier modèle de deep learning</u></h2></center>\n",
    "<h4><u>Entrainement du modèle :</u></h4>\"\"\"))\n",
    "EPOCHS = 6\n",
    "BATCHS = 32\n",
    "\n",
    "UNITS1 = 25\n",
    "UNITS2 = 50\n",
    "UNITS3 = None\n",
    "UNITS4 = None\n",
    "UNITS5 = None\n",
    "UNITSOUT = 2\n",
    "\n",
    "ACTIV1 = \"relu\"\n",
    "ACTIV2 = \"relu\"\n",
    "ACTIV3 = None\n",
    "ACTIV4 = None\n",
    "ACTIV5 = None\n",
    "\n",
    "inputs = Input(shape = X_train_scaled.shape[1], name = \"Input\")\n",
    "dense1 = Dense(units = UNITS1, activation = ACTIV1, kernel_initializer = \"normal\", name = \"Dense_1\")\n",
    "dense2 = Dense(units = UNITS2, activation = ACTIV2, kernel_initializer = \"normal\", name = \"Dense_2\")\n",
    "dense3 = Dense(units = UNITSOUT, activation = \"softmax\", name = \"Dense_3\")\n",
    "\n",
    "x = dense1(inputs)\n",
    "x = dense2(x)\n",
    "outputs = dense3(x)\n",
    "\n",
    "model = Model(inputs = inputs, outputs = outputs)\n",
    "model.compile(loss = \"sparse_categorical_crossentropy\", optimizer = \"adam\", metrics = [\"accuracy\"])\n",
    "training_history = model.fit(X_train_scaled, y_train, epochs = EPOCHS, batch_size = BATCHS, validation_data=(X_test_scaled,y_test))\n",
    "\n",
    "#calcul du score\n",
    "score = model.evaluate(X_test_scaled, y_test)\n",
    "print(score)\n",
    "\n",
    "#prédiction\n",
    "test_pred = model.predict(X_test_scaled)\n",
    "\n",
    "y_test_class = y_test\n",
    "y_pred_class = np.argmax(test_pred, axis = 1)\n",
    "\n",
    "#Résultats\n",
    "precis = classification_report(y_test_class, y_pred_class,output_dict=True)\n",
    "\n",
    "#Output\n",
    "display(Markdown(\"\"\"<h4><u>Récapitulatif du modèle :</u></h4>\n",
    "Ce premier modèle avait 2 couches denses :\n",
    "<ul><li>la première avec <b>{} neurones</b> et une fonction d'activation <b>{}</b> ;</li>\n",
    "<li> la seconde avec <b>{} neurones</b> et une fonction d'activation <b>{}</b> ;</li>\n",
    "<li> la couche de sortie comportait <b>2 neurones</b> et une fonction d'activation <b>softmax</b> ;</li>\n",
    "<li> apprentissage sur <b>{} epochs</b> par batch de <b>{}</b>.</li></ul>\n",
    "\"\"\".format(UNITS1, ACTIV1, UNITS2, ACTIV2, EPOCHS, BATCHS)))\n",
    "\n",
    "model.summary()\n",
    "\n",
    "display(Markdown(\"\"\"<h4><u>Résultats du modèle :</h4></u>\n",
    "<ul><li> Prédiction des <b>jours de pluie</b> avec une précision de <b>{} %</b> (<i>recall = <b>{} %</b></i>) ;</li>\n",
    "<li> Prédiction des <b>jours sans pluie</b> avec une précision de <b>{} %</b> (<i>recall = <b>{} %</b></i>) ;</li>\n",
    "<li>La précision globale du modèle est de <b>{} %</b>.</li></ul>\n",
    "Les paramètres de ce premier modèle ont été fixés de façon plus ou moins arbritraire. Les \n",
    "performances de ce modèle sont globalement satisfaisantes, voire très satisfaisantes pour la détection des jours sans pluie.\n",
    "Il serait toutefois intéressant d'améliorer la prédiction de jours de pluie.\n",
    "\"\"\".format(\n",
    "    round(100*precis[\"1\"][\"precision\"],2),\n",
    "    round(100*precis[\"1\"][\"recall\"],2),\n",
    "    round(100*precis[\"0\"][\"precision\"],2),\n",
    "    round(100*precis[\"0\"][\"recall\"],2),\n",
    "    round(100*precis[\"accuracy\"],2)\n",
    ")))\n",
    "\n",
    "display(Markdown(\"<i><h5>Rapport de classification :</h5></i>\"))\n",
    "print(classification_report(y_test_class, y_pred_class))\n",
    "display(Markdown(\"<i><h5>Matrice de confusion :</h5></i>\"))\n",
    "print(pd.crosstab(y_test_class, y_pred_class, rownames = [\"Réel\"], colnames = [\"Prédiction\"]))"
   ]
  },
  {
   "cell_type": "code",
   "execution_count": 4,
   "id": "4e76f69b",
   "metadata": {},
   "outputs": [
    {
     "data": {
      "text/markdown": [
       "<h2><center><u>Effet du nombre de neurones</u></h2></center>\n",
       "<h4><u>Entrainement du modèle :</u></h4>"
      ],
      "text/plain": [
       "<IPython.core.display.Markdown object>"
      ]
     },
     "metadata": {},
     "output_type": "display_data"
    },
    {
     "name": "stdout",
     "output_type": "stream",
     "text": [
      "Epoch 1/6\n",
      "3229/3229 [==============================] - 5s 2ms/step - loss: 0.3498 - accuracy: 0.8488 - val_loss: 0.3374 - val_accuracy: 0.8556\n",
      "Epoch 2/6\n",
      "3229/3229 [==============================] - 5s 2ms/step - loss: 0.3406 - accuracy: 0.8523 - val_loss: 0.3337 - val_accuracy: 0.8565\n",
      "Epoch 3/6\n",
      "3229/3229 [==============================] - 5s 1ms/step - loss: 0.3370 - accuracy: 0.8534 - val_loss: 0.3323 - val_accuracy: 0.8565\n",
      "Epoch 4/6\n",
      "3229/3229 [==============================] - 5s 2ms/step - loss: 0.3342 - accuracy: 0.8547 - val_loss: 0.3345 - val_accuracy: 0.8560\n",
      "Epoch 5/6\n",
      "3229/3229 [==============================] - 5s 2ms/step - loss: 0.3315 - accuracy: 0.8566 - val_loss: 0.3311 - val_accuracy: 0.8585\n",
      "Epoch 6/6\n",
      "3229/3229 [==============================] - 5s 2ms/step - loss: 0.3295 - accuracy: 0.8567 - val_loss: 0.3303 - val_accuracy: 0.8594\n",
      "808/808 [==============================] - 1s 774us/step - loss: 0.3303 - accuracy: 0.8594\n"
     ]
    },
    {
     "data": {
      "text/markdown": [
       "<h4><u>Récapitulatif du modèle :</h4></u>\n",
       "Ce modèle avait 2 couches denses :\n",
       "<ul><li>la première avec <b>250 neurones</b> et une fonction d'activation <b>relu</b> ;</li>\n",
       "<li> la seconde avec <b>500 neurones</b> et une fonction d'activation <b>relu</b> ;</li>\n",
       "<li> la couche de sortie comportait <b>2 neurones</b> et une fonction d'activation <b>softmax</b> ;</li>\n",
       "<li> apprentissage sur <b>6 epochs</b> par batch de <b>32</b>.</li></ul>\n"
      ],
      "text/plain": [
       "<IPython.core.display.Markdown object>"
      ]
     },
     "metadata": {},
     "output_type": "display_data"
    },
    {
     "name": "stdout",
     "output_type": "stream",
     "text": [
      "Model: \"model_1\"\n",
      "_________________________________________________________________\n",
      " Layer (type)                Output Shape              Param #   \n",
      "=================================================================\n",
      " Input (InputLayer)          [(None, 22)]              0         \n",
      "                                                                 \n",
      " Dense_1 (Dense)             (None, 250)               5750      \n",
      "                                                                 \n",
      " Dense_2 (Dense)             (None, 500)               125500    \n",
      "                                                                 \n",
      " Dense_3 (Dense)             (None, 2)                 1002      \n",
      "                                                                 \n",
      "=================================================================\n",
      "Total params: 132,252\n",
      "Trainable params: 132,252\n",
      "Non-trainable params: 0\n",
      "_________________________________________________________________\n"
     ]
    },
    {
     "data": {
      "text/markdown": [
       "<h4><u>Résultats du modèle :</h4></u>\n",
       "<ul><li> Prédiction des <b>jours de pluie</b> avec une précision de <b>73.14 %</b> (<i>recall = <b>55.09 %</b></i>) ;</li>\n",
       "<li> Prédiction des <b>jours sans pluie</b> avec une précision de <b>88.42 %</b> (<i>recall = <b>94.43 %</b></i>) ;</li>\n",
       "<li>La précision globale du modèle est de <b>85.94 %</b>.</li></ul>\n",
       "Le simple ajout de neurones (ici 10 fois plus nombreux dans chaque couche par rapport au modèle initial) \n",
       "ne semble pas modifier les performances.\n"
      ],
      "text/plain": [
       "<IPython.core.display.Markdown object>"
      ]
     },
     "metadata": {},
     "output_type": "display_data"
    },
    {
     "data": {
      "text/markdown": [
       "<i><h5>Rapport de classification :</h5></i>"
      ],
      "text/plain": [
       "<IPython.core.display.Markdown object>"
      ]
     },
     "metadata": {},
     "output_type": "display_data"
    },
    {
     "name": "stdout",
     "output_type": "stream",
     "text": [
      "              precision    recall  f1-score   support\n",
      "\n",
      "           0       0.88      0.94      0.91     20250\n",
      "           1       0.73      0.55      0.63      5576\n",
      "\n",
      "    accuracy                           0.86     25826\n",
      "   macro avg       0.81      0.75      0.77     25826\n",
      "weighted avg       0.85      0.86      0.85     25826\n",
      "\n"
     ]
    },
    {
     "data": {
      "text/markdown": [
       "<i><h5>Matrice de confusion :</h5></i>"
      ],
      "text/plain": [
       "<IPython.core.display.Markdown object>"
      ]
     },
     "metadata": {},
     "output_type": "display_data"
    },
    {
     "name": "stdout",
     "output_type": "stream",
     "text": [
      "Prédiction      0     1\n",
      "Réel                   \n",
      "0           19122  1128\n",
      "1            2504  3072\n"
     ]
    }
   ],
   "source": [
    "display(Markdown(\"\"\"<h2><center><u>Effet du nombre de neurones</u></h2></center>\n",
    "<h4><u>Entrainement du modèle :</u></h4>\"\"\"))\n",
    "\n",
    "EPOCHS = 6\n",
    "BATCHS = 32\n",
    "\n",
    "UNITS1 = 250\n",
    "UNITS2 = 500\n",
    "UNITS3 = None\n",
    "UNITS4 = None\n",
    "UNITS5 = None\n",
    "UNITSOUT = 2\n",
    "\n",
    "ACTIV1 = \"relu\"\n",
    "ACTIV2 = \"relu\"\n",
    "ACTIV3 = None\n",
    "ACTIV4 = None\n",
    "ACTIV5 = None\n",
    "\n",
    "inputs = Input(shape = X_train_scaled.shape[1], name = \"Input\")\n",
    "dense1 = Dense(units = UNITS1, activation = ACTIV1, kernel_initializer = \"normal\", name = \"Dense_1\")\n",
    "dense2 = Dense(units = UNITS2, activation = ACTIV2, kernel_initializer = \"normal\", name = \"Dense_2\")\n",
    "dense3 = Dense(units = UNITSOUT, activation = \"softmax\", name = \"Dense_3\")\n",
    "\n",
    "\n",
    "x = dense1(inputs)\n",
    "x = dense2(x)\n",
    "outputs = dense3(x)\n",
    "\n",
    "model = Model(inputs = inputs, outputs = outputs)\n",
    "model.compile(loss = \"sparse_categorical_crossentropy\", optimizer = \"adam\", metrics = [\"accuracy\"])\n",
    "training_history = model.fit(X_train_scaled, y_train, epochs = EPOCHS, batch_size = BATCHS, validation_data=(X_test_scaled,y_test))\n",
    "\n",
    "#calcul du score\n",
    "score = model.evaluate(X_test_scaled, y_test)\n",
    "\n",
    "#prédiction\n",
    "test_pred = model.predict(X_test_scaled)\n",
    "\n",
    "y_test_class = y_test\n",
    "y_pred_class = np.argmax(test_pred, axis = 1)\n",
    "\n",
    "#Résultats\n",
    "precis = classification_report(y_test_class, y_pred_class,output_dict=True)\n",
    "\n",
    "#Output\n",
    "display(Markdown(\"\"\"<h4><u>Récapitulatif du modèle :</h4></u>\n",
    "Ce modèle avait 2 couches denses :\n",
    "<ul><li>la première avec <b>{} neurones</b> et une fonction d'activation <b>{}</b> ;</li>\n",
    "<li> la seconde avec <b>{} neurones</b> et une fonction d'activation <b>{}</b> ;</li>\n",
    "<li> la couche de sortie comportait <b>2 neurones</b> et une fonction d'activation <b>softmax</b> ;</li>\n",
    "<li> apprentissage sur <b>{} epochs</b> par batch de <b>{}</b>.</li></ul>\n",
    "\"\"\".format(UNITS1, ACTIV1, UNITS2, ACTIV2, EPOCHS, BATCHS)))\n",
    "\n",
    "model.summary()\n",
    "\n",
    "display(Markdown(\"\"\"<h4><u>Résultats du modèle :</h4></u>\n",
    "<ul><li> Prédiction des <b>jours de pluie</b> avec une précision de <b>{} %</b> (<i>recall = <b>{} %</b></i>) ;</li>\n",
    "<li> Prédiction des <b>jours sans pluie</b> avec une précision de <b>{} %</b> (<i>recall = <b>{} %</b></i>) ;</li>\n",
    "<li>La précision globale du modèle est de <b>{} %</b>.</li></ul>\n",
    "Le simple ajout de neurones (ici 10 fois plus nombreux dans chaque couche par rapport au modèle initial) \n",
    "ne semble pas modifier les performances.\n",
    "\"\"\".format(\n",
    "    round(100*precis[\"1\"][\"precision\"],2),\n",
    "    round(100*precis[\"1\"][\"recall\"],2),\n",
    "    round(100*precis[\"0\"][\"precision\"],2),\n",
    "    round(100*precis[\"0\"][\"recall\"],2),\n",
    "    round(100*precis[\"accuracy\"],2)\n",
    ")))\n",
    "\n",
    "display(Markdown(\"<i><h5>Rapport de classification :</h5></i>\"))\n",
    "print(classification_report(y_test_class, y_pred_class))\n",
    "display(Markdown(\"<i><h5>Matrice de confusion :</h5></i>\"))\n",
    "print(pd.crosstab(y_test_class, y_pred_class, rownames = [\"Réel\"], colnames = [\"Prédiction\"]))"
   ]
  },
  {
   "cell_type": "code",
   "execution_count": 5,
   "id": "fb5dcf74",
   "metadata": {
    "scrolled": false
   },
   "outputs": [
    {
     "data": {
      "text/markdown": [
       "<h2><center><u>Effet du nombre d'épochs</u></h2></center>\n",
       "<h4><u>Entrainement du modèle :</u></h4>"
      ],
      "text/plain": [
       "<IPython.core.display.Markdown object>"
      ]
     },
     "metadata": {},
     "output_type": "display_data"
    },
    {
     "name": "stdout",
     "output_type": "stream",
     "text": [
      "Epoch 1/18\n",
      "3229/3229 [==============================] - 3s 909us/step - loss: 0.3530 - accuracy: 0.8479 - val_loss: 0.3395 - val_accuracy: 0.8540\n",
      "Epoch 2/18\n",
      "3229/3229 [==============================] - 3s 934us/step - loss: 0.3440 - accuracy: 0.8512 - val_loss: 0.3374 - val_accuracy: 0.8547\n",
      "Epoch 3/18\n",
      "3229/3229 [==============================] - 3s 951us/step - loss: 0.3416 - accuracy: 0.8520 - val_loss: 0.3451 - val_accuracy: 0.8517\n",
      "Epoch 4/18\n",
      "3229/3229 [==============================] - 3s 867us/step - loss: 0.3397 - accuracy: 0.8523 - val_loss: 0.3357 - val_accuracy: 0.8558\n",
      "Epoch 5/18\n",
      "3229/3229 [==============================] - 3s 872us/step - loss: 0.3382 - accuracy: 0.8525 - val_loss: 0.3339 - val_accuracy: 0.8558\n",
      "Epoch 6/18\n",
      "3229/3229 [==============================] - 3s 899us/step - loss: 0.3368 - accuracy: 0.8533 - val_loss: 0.3331 - val_accuracy: 0.8556\n",
      "Epoch 7/18\n",
      "3229/3229 [==============================] - 3s 867us/step - loss: 0.3357 - accuracy: 0.8540 - val_loss: 0.3335 - val_accuracy: 0.8556\n",
      "Epoch 8/18\n",
      "3229/3229 [==============================] - 3s 867us/step - loss: 0.3347 - accuracy: 0.8547 - val_loss: 0.3344 - val_accuracy: 0.8553\n",
      "Epoch 9/18\n",
      "3229/3229 [==============================] - 3s 872us/step - loss: 0.3342 - accuracy: 0.8552 - val_loss: 0.3312 - val_accuracy: 0.8572\n",
      "Epoch 10/18\n",
      "3229/3229 [==============================] - 3s 872us/step - loss: 0.3338 - accuracy: 0.8550 - val_loss: 0.3306 - val_accuracy: 0.8575\n",
      "Epoch 11/18\n",
      "3229/3229 [==============================] - 3s 874us/step - loss: 0.3331 - accuracy: 0.8553 - val_loss: 0.3301 - val_accuracy: 0.8581\n",
      "Epoch 12/18\n",
      "3229/3229 [==============================] - 3s 870us/step - loss: 0.3325 - accuracy: 0.8558 - val_loss: 0.3309 - val_accuracy: 0.8574\n",
      "Epoch 13/18\n",
      "3229/3229 [==============================] - 3s 875us/step - loss: 0.3321 - accuracy: 0.8559 - val_loss: 0.3315 - val_accuracy: 0.8571\n",
      "Epoch 14/18\n",
      "3229/3229 [==============================] - 3s 874us/step - loss: 0.3312 - accuracy: 0.8562 - val_loss: 0.3317 - val_accuracy: 0.8568\n",
      "Epoch 15/18\n",
      "3229/3229 [==============================] - 3s 874us/step - loss: 0.3309 - accuracy: 0.8562 - val_loss: 0.3301 - val_accuracy: 0.8578\n",
      "Epoch 16/18\n",
      "3229/3229 [==============================] - 3s 873us/step - loss: 0.3305 - accuracy: 0.8561 - val_loss: 0.3295 - val_accuracy: 0.8579\n",
      "Epoch 17/18\n",
      "3229/3229 [==============================] - 3s 872us/step - loss: 0.3301 - accuracy: 0.8570 - val_loss: 0.3324 - val_accuracy: 0.8560\n",
      "Epoch 18/18\n",
      "3229/3229 [==============================] - 3s 877us/step - loss: 0.3296 - accuracy: 0.8563 - val_loss: 0.3298 - val_accuracy: 0.8574\n",
      "808/808 [==============================] - 1s 635us/step - loss: 0.3298 - accuracy: 0.8574\n"
     ]
    },
    {
     "data": {
      "text/markdown": [
       "<h4><u>Récapitulatif du modèle :</h4></u>\n",
       "Ce modèle avait 2 couches denses :\n",
       "<ul><li>la première avec <b>25 neurones</b> et une fonction d'activation <b>relu</b> ;</li>\n",
       "<li> la seconde avec <b>50 neurones</b> et une fonction d'activation <b>relu</b> ;</li>\n",
       "<li> la couche de sortie comportait <b>2 neurones</b> et une fonction d'activation <b>softmax</b> ;</li>\n",
       "<li> apprentissage sur <b>18 epochs</b> par batch de <b>32</b>.</li></ul>\n"
      ],
      "text/plain": [
       "<IPython.core.display.Markdown object>"
      ]
     },
     "metadata": {},
     "output_type": "display_data"
    },
    {
     "name": "stdout",
     "output_type": "stream",
     "text": [
      "Model: \"model_2\"\n",
      "_________________________________________________________________\n",
      " Layer (type)                Output Shape              Param #   \n",
      "=================================================================\n",
      " Input (InputLayer)          [(None, 22)]              0         \n",
      "                                                                 \n",
      " Dense_1 (Dense)             (None, 25)                575       \n",
      "                                                                 \n",
      " Dense_2 (Dense)             (None, 50)                1300      \n",
      "                                                                 \n",
      " Dense_3 (Dense)             (None, 2)                 102       \n",
      "                                                                 \n",
      "=================================================================\n",
      "Total params: 1,977\n",
      "Trainable params: 1,977\n",
      "Non-trainable params: 0\n",
      "_________________________________________________________________\n"
     ]
    },
    {
     "data": {
      "text/markdown": [
       "<h4><u>Résultats du modèle :</h4></u>\n",
       "<ul><li> Prédiction des <b>jours de pluie</b> avec une précision de <b>73.47 %</b> (<i>recall = <b>53.14 %</b></i>) ;</li>\n",
       "<li> Prédiction des <b>jours sans pluie</b> avec une précision de <b>88.01 %</b> (<i>recall = <b>94.72 %</b></i>) ;</li>\n",
       "<li>La précision globale du modèle est de <b>85.74 %</b>.</li></ul>\n",
       "L'entrainement sur un nombre plus important d'epochs (ici 18 soit 3 fois plus par rapport au modèle initial) \n",
       "ne semble pas modifier les performances.\n"
      ],
      "text/plain": [
       "<IPython.core.display.Markdown object>"
      ]
     },
     "metadata": {},
     "output_type": "display_data"
    },
    {
     "data": {
      "text/markdown": [
       "<i><h5>Rapport de classification :</h5></i>"
      ],
      "text/plain": [
       "<IPython.core.display.Markdown object>"
      ]
     },
     "metadata": {},
     "output_type": "display_data"
    },
    {
     "name": "stdout",
     "output_type": "stream",
     "text": [
      "              precision    recall  f1-score   support\n",
      "\n",
      "           0       0.88      0.95      0.91     20250\n",
      "           1       0.73      0.53      0.62      5576\n",
      "\n",
      "    accuracy                           0.86     25826\n",
      "   macro avg       0.81      0.74      0.76     25826\n",
      "weighted avg       0.85      0.86      0.85     25826\n",
      "\n"
     ]
    },
    {
     "data": {
      "text/markdown": [
       "<i><h5>Matrice de confusion :</h5></i>"
      ],
      "text/plain": [
       "<IPython.core.display.Markdown object>"
      ]
     },
     "metadata": {},
     "output_type": "display_data"
    },
    {
     "name": "stdout",
     "output_type": "stream",
     "text": [
      "Prédiction      0     1\n",
      "Réel                   \n",
      "0           19180  1070\n",
      "1            2613  2963\n"
     ]
    }
   ],
   "source": [
    "display(Markdown(\"\"\"<h2><center><u>Effet du nombre d'épochs</u></h2></center>\n",
    "<h4><u>Entrainement du modèle :</u></h4>\"\"\"))\n",
    "\n",
    "EPOCHS = 18\n",
    "BATCHS = 32\n",
    "\n",
    "UNITS1 = 25\n",
    "UNITS2 = 50\n",
    "UNITS3 = None\n",
    "UNITS4 = None\n",
    "UNITS5 = None\n",
    "UNITSOUT = 2\n",
    "\n",
    "ACTIV1 = \"relu\"\n",
    "ACTIV2 = \"relu\"\n",
    "ACTIV3 = None\n",
    "ACTIV4 = None\n",
    "ACTIV5 = None\n",
    "\n",
    "inputs = Input(shape = X_train_scaled.shape[1], name = \"Input\")\n",
    "dense1 = Dense(units = UNITS1, activation = ACTIV1, kernel_initializer = \"normal\", name = \"Dense_1\")\n",
    "dense2 = Dense(units = UNITS2, activation = ACTIV2, kernel_initializer = \"normal\", name = \"Dense_2\")\n",
    "dense3 = Dense(units = UNITSOUT, activation = \"softmax\", name = \"Dense_3\")\n",
    "\n",
    "x = dense1(inputs)\n",
    "x = dense2(x)\n",
    "outputs = dense3(x)\n",
    "\n",
    "model = Model(inputs = inputs, outputs = outputs)\n",
    "model.compile(loss = \"sparse_categorical_crossentropy\", optimizer = \"adam\", metrics = [\"accuracy\"])\n",
    "training_history = model.fit(X_train_scaled, y_train, epochs = EPOCHS, batch_size = BATCHS, validation_data=(X_test_scaled,y_test))\n",
    "\n",
    "#calcul du score\n",
    "score = model.evaluate(X_test_scaled, y_test)\n",
    "\n",
    "#prédiction\n",
    "test_pred = model.predict(X_test_scaled)\n",
    "\n",
    "y_test_class = y_test\n",
    "y_pred_class = np.argmax(test_pred, axis = 1)\n",
    "\n",
    "#Résultats\n",
    "precis = classification_report(y_test_class, y_pred_class,output_dict=True)\n",
    "\n",
    "#Output\n",
    "display(Markdown(\"\"\"<h4><u>Récapitulatif du modèle :</h4></u>\n",
    "Ce modèle avait 2 couches denses :\n",
    "<ul><li>la première avec <b>{} neurones</b> et une fonction d'activation <b>{}</b> ;</li>\n",
    "<li> la seconde avec <b>{} neurones</b> et une fonction d'activation <b>{}</b> ;</li>\n",
    "<li> la couche de sortie comportait <b>2 neurones</b> et une fonction d'activation <b>softmax</b> ;</li>\n",
    "<li> apprentissage sur <b>{} epochs</b> par batch de <b>{}</b>.</li></ul>\n",
    "\"\"\".format(UNITS1, ACTIV1, UNITS2, ACTIV2, EPOCHS, BATCHS)))\n",
    "\n",
    "model.summary()\n",
    "\n",
    "display(Markdown(\"\"\"<h4><u>Résultats du modèle :</h4></u>\n",
    "<ul><li> Prédiction des <b>jours de pluie</b> avec une précision de <b>{} %</b> (<i>recall = <b>{} %</b></i>) ;</li>\n",
    "<li> Prédiction des <b>jours sans pluie</b> avec une précision de <b>{} %</b> (<i>recall = <b>{} %</b></i>) ;</li>\n",
    "<li>La précision globale du modèle est de <b>{} %</b>.</li></ul>\n",
    "L'entrainement sur un nombre plus important d'epochs (ici 18 soit 3 fois plus par rapport au modèle initial) \n",
    "ne semble pas modifier les performances.\n",
    "\"\"\".format(\n",
    "    round(100*precis[\"1\"][\"precision\"],2),\n",
    "    round(100*precis[\"1\"][\"recall\"],2),\n",
    "    round(100*precis[\"0\"][\"precision\"],2),\n",
    "    round(100*precis[\"0\"][\"recall\"],2),\n",
    "    round(100*precis[\"accuracy\"],2)\n",
    ")))\n",
    "\n",
    "display(Markdown(\"<i><h5>Rapport de classification :</h5></i>\"))\n",
    "print(classification_report(y_test_class, y_pred_class))\n",
    "display(Markdown(\"<i><h5>Matrice de confusion :</h5></i>\"))\n",
    "print(pd.crosstab(y_test_class, y_pred_class, rownames = [\"Réel\"], colnames = [\"Prédiction\"]))"
   ]
  },
  {
   "cell_type": "code",
   "execution_count": 6,
   "id": "cce68ec2",
   "metadata": {},
   "outputs": [
    {
     "data": {
      "text/markdown": [
       "<h2><center><u>Effet de la taille des batchs</u></h2></center>\n",
       "<h4><u>Entrainement du modèle :</u></h4>"
      ],
      "text/plain": [
       "<IPython.core.display.Markdown object>"
      ]
     },
     "metadata": {},
     "output_type": "display_data"
    },
    {
     "name": "stdout",
     "output_type": "stream",
     "text": [
      "Epoch 1/6\n",
      "323/323 [==============================] - 1s 2ms/step - loss: 0.3824 - accuracy: 0.8358 - val_loss: 0.3416 - val_accuracy: 0.8525\n",
      "Epoch 2/6\n",
      "323/323 [==============================] - 0s 1ms/step - loss: 0.3461 - accuracy: 0.8505 - val_loss: 0.3388 - val_accuracy: 0.8542\n",
      "Epoch 3/6\n",
      "323/323 [==============================] - 0s 1ms/step - loss: 0.3437 - accuracy: 0.8513 - val_loss: 0.3378 - val_accuracy: 0.8544\n",
      "Epoch 4/6\n",
      "323/323 [==============================] - 0s 1ms/step - loss: 0.3423 - accuracy: 0.8521 - val_loss: 0.3360 - val_accuracy: 0.8550\n",
      "Epoch 5/6\n",
      "323/323 [==============================] - 0s 1ms/step - loss: 0.3408 - accuracy: 0.8521 - val_loss: 0.3364 - val_accuracy: 0.8543\n",
      "Epoch 6/6\n",
      "323/323 [==============================] - 0s 1ms/step - loss: 0.3399 - accuracy: 0.8524 - val_loss: 0.3340 - val_accuracy: 0.8552\n",
      "808/808 [==============================] - 0s 595us/step - loss: 0.3340 - accuracy: 0.8552\n"
     ]
    },
    {
     "data": {
      "text/markdown": [
       "<h4><u>Récapitulatif du modèle :</h4></u>\n",
       "Ce modèle avait 2 couches denses :\n",
       "<ul><li>la première avec <b>25 neurones</b> et une fonction d'activation <b>relu</b> ;</li>\n",
       "<li> la seconde avec <b>50 neurones</b> et une fonction d'activation <b>relu</b> ;</li>\n",
       "<li> la couche de sortie comportait <b>2 neurones</b> et une fonction d'activation <b>softmax</b> ;</li>\n",
       "<li> apprentissage sur <b>6 epochs</b> par batch de <b>320</b>.</li></ul>\n"
      ],
      "text/plain": [
       "<IPython.core.display.Markdown object>"
      ]
     },
     "metadata": {},
     "output_type": "display_data"
    },
    {
     "name": "stdout",
     "output_type": "stream",
     "text": [
      "Model: \"model_3\"\n",
      "_________________________________________________________________\n",
      " Layer (type)                Output Shape              Param #   \n",
      "=================================================================\n",
      " Input (InputLayer)          [(None, 22)]              0         \n",
      "                                                                 \n",
      " Dense_1 (Dense)             (None, 25)                575       \n",
      "                                                                 \n",
      " Dense_2 (Dense)             (None, 50)                1300      \n",
      "                                                                 \n",
      " Dense_3 (Dense)             (None, 2)                 102       \n",
      "                                                                 \n",
      "=================================================================\n",
      "Total params: 1,977\n",
      "Trainable params: 1,977\n",
      "Non-trainable params: 0\n",
      "_________________________________________________________________\n"
     ]
    },
    {
     "data": {
      "text/markdown": [
       "<h4><u>Résultats du modèle :</h4></u>\n",
       "<ul><li> Prédiction des <b>jours de pluie</b> avec une précision de <b>72.98 %</b> (<i>recall = <b>52.28 %</b></i>) ;</li>\n",
       "<li> Prédiction des <b>jours sans pluie</b> avec une précision de <b>87.81 %</b> (<i>recall = <b>94.67 %</b></i>) ;</li>\n",
       "<li>La précision globale du modèle est de <b>85.52 %</b>.</li></ul>\n",
       "L'entrainement sur des batchs de plus grande taille (ici 320 soit 10 fois plus grands par rapport au modèle initial) \n",
       "ne semble pas modifier les performances, en revanche la vitesse d'execution du modèle est considérablement réduite.\n"
      ],
      "text/plain": [
       "<IPython.core.display.Markdown object>"
      ]
     },
     "metadata": {},
     "output_type": "display_data"
    },
    {
     "data": {
      "text/markdown": [
       "<i><h5>Rapport de classification :</h5></i>"
      ],
      "text/plain": [
       "<IPython.core.display.Markdown object>"
      ]
     },
     "metadata": {},
     "output_type": "display_data"
    },
    {
     "name": "stdout",
     "output_type": "stream",
     "text": [
      "              precision    recall  f1-score   support\n",
      "\n",
      "           0       0.88      0.95      0.91     20250\n",
      "           1       0.73      0.52      0.61      5576\n",
      "\n",
      "    accuracy                           0.86     25826\n",
      "   macro avg       0.80      0.73      0.76     25826\n",
      "weighted avg       0.85      0.86      0.85     25826\n",
      "\n"
     ]
    },
    {
     "data": {
      "text/markdown": [
       "<i><h5>Matrice de confusion :</h5></i>"
      ],
      "text/plain": [
       "<IPython.core.display.Markdown object>"
      ]
     },
     "metadata": {},
     "output_type": "display_data"
    },
    {
     "name": "stdout",
     "output_type": "stream",
     "text": [
      "Prédiction      0     1\n",
      "Réel                   \n",
      "0           19171  1079\n",
      "1            2661  2915\n"
     ]
    }
   ],
   "source": [
    "display(Markdown(\"\"\"<h2><center><u>Effet de la taille des batchs</u></h2></center>\n",
    "<h4><u>Entrainement du modèle :</u></h4>\"\"\"))\n",
    "\n",
    "EPOCHS = 6\n",
    "BATCHS = 320\n",
    "\n",
    "UNITS1 = 25\n",
    "UNITS2 = 50\n",
    "UNITS3 = None\n",
    "UNITS4 = None\n",
    "UNITS5 = None\n",
    "UNITSOUT = 2\n",
    "\n",
    "ACTIV1 = \"relu\"\n",
    "ACTIV2 = \"relu\"\n",
    "ACTIV3 = None\n",
    "ACTIV4 = None\n",
    "ACTIV5 = None\n",
    "\n",
    "inputs = Input(shape = X_train_scaled.shape[1], name = \"Input\")\n",
    "dense1 = Dense(units = UNITS1, activation = ACTIV1, kernel_initializer = \"normal\", name = \"Dense_1\")\n",
    "dense2 = Dense(units = UNITS2, activation = ACTIV2, kernel_initializer = \"normal\", name = \"Dense_2\")\n",
    "dense3 = Dense(units = UNITSOUT, activation = \"softmax\", name = \"Dense_3\")\n",
    "\n",
    "x = dense1(inputs)\n",
    "x = dense2(x)\n",
    "outputs = dense3(x)\n",
    "\n",
    "model = Model(inputs = inputs, outputs = outputs)\n",
    "\n",
    "model.compile(loss = \"sparse_categorical_crossentropy\", optimizer = \"adam\", metrics = [\"accuracy\"])\n",
    "\n",
    "training_history = model.fit(X_train_scaled, y_train, epochs = EPOCHS, batch_size = BATCHS, validation_data=(X_test_scaled,y_test))\n",
    "\n",
    "#calcul du score\n",
    "score = model.evaluate(X_test_scaled, y_test)\n",
    "\n",
    "#prédiction\n",
    "test_pred = model.predict(X_test_scaled)\n",
    "\n",
    "y_test_class = y_test\n",
    "y_pred_class = np.argmax(test_pred, axis = 1)\n",
    "\n",
    "#Résultats\n",
    "precis = classification_report(y_test_class, y_pred_class,output_dict=True)\n",
    "\n",
    "#Output\n",
    "display(Markdown(\"\"\"<h4><u>Récapitulatif du modèle :</h4></u>\n",
    "Ce modèle avait 2 couches denses :\n",
    "<ul><li>la première avec <b>{} neurones</b> et une fonction d'activation <b>{}</b> ;</li>\n",
    "<li> la seconde avec <b>{} neurones</b> et une fonction d'activation <b>{}</b> ;</li>\n",
    "<li> la couche de sortie comportait <b>2 neurones</b> et une fonction d'activation <b>softmax</b> ;</li>\n",
    "<li> apprentissage sur <b>{} epochs</b> par batch de <b>{}</b>.</li></ul>\n",
    "\"\"\".format(UNITS1, ACTIV1, UNITS2, ACTIV2, EPOCHS, BATCHS)))\n",
    "\n",
    "model.summary()\n",
    "                 \n",
    "display(Markdown(\"\"\"<h4><u>Résultats du modèle :</h4></u>\n",
    "<ul><li> Prédiction des <b>jours de pluie</b> avec une précision de <b>{} %</b> (<i>recall = <b>{} %</b></i>) ;</li>\n",
    "<li> Prédiction des <b>jours sans pluie</b> avec une précision de <b>{} %</b> (<i>recall = <b>{} %</b></i>) ;</li>\n",
    "<li>La précision globale du modèle est de <b>{} %</b>.</li></ul>\n",
    "L'entrainement sur des batchs de plus grande taille (ici 320 soit 10 fois plus grands par rapport au modèle initial) \n",
    "ne semble pas modifier les performances, en revanche la vitesse d'execution du modèle est considérablement réduite.\n",
    "\"\"\".format(\n",
    "    round(100*precis[\"1\"][\"precision\"],2),\n",
    "    round(100*precis[\"1\"][\"recall\"],2),\n",
    "    round(100*precis[\"0\"][\"precision\"],2),\n",
    "    round(100*precis[\"0\"][\"recall\"],2),\n",
    "    round(100*precis[\"accuracy\"],2)\n",
    ")))\n",
    "\n",
    "display(Markdown(\"<i><h5>Rapport de classification :</h5></i>\"))\n",
    "print(classification_report(y_test_class, y_pred_class))\n",
    "display(Markdown(\"<i><h5>Matrice de confusion :</h5></i>\"))\n",
    "print(pd.crosstab(y_test_class, y_pred_class, rownames = [\"Réel\"], colnames = [\"Prédiction\"]))"
   ]
  },
  {
   "cell_type": "code",
   "execution_count": 7,
   "id": "f7d62ac6",
   "metadata": {},
   "outputs": [
    {
     "data": {
      "text/markdown": [
       "<h2><center><u>Effet des fonctions d'activation</u></h2></center>\n",
       "<h4><u>Entrainement du modèle :</u></h4>"
      ],
      "text/plain": [
       "<IPython.core.display.Markdown object>"
      ]
     },
     "metadata": {},
     "output_type": "display_data"
    },
    {
     "name": "stdout",
     "output_type": "stream",
     "text": [
      "Epoch 1/6\n",
      "3229/3229 [==============================] - 3s 931us/step - loss: 0.3597 - accuracy: 0.8441 - val_loss: 0.3471 - val_accuracy: 0.8519\n",
      "Epoch 2/6\n",
      "3229/3229 [==============================] - 3s 870us/step - loss: 0.3542 - accuracy: 0.8463 - val_loss: 0.3475 - val_accuracy: 0.8495\n",
      "Epoch 3/6\n",
      "3229/3229 [==============================] - 3s 873us/step - loss: 0.3513 - accuracy: 0.8473 - val_loss: 0.3428 - val_accuracy: 0.8532\n",
      "Epoch 4/6\n",
      "3229/3229 [==============================] - 3s 886us/step - loss: 0.3480 - accuracy: 0.8487 - val_loss: 0.3411 - val_accuracy: 0.8543\n",
      "Epoch 5/6\n",
      "3229/3229 [==============================] - 3s 892us/step - loss: 0.3458 - accuracy: 0.8496 - val_loss: 0.3415 - val_accuracy: 0.8528\n",
      "Epoch 6/6\n",
      "3229/3229 [==============================] - 3s 876us/step - loss: 0.3440 - accuracy: 0.8502 - val_loss: 0.3390 - val_accuracy: 0.8534\n",
      "808/808 [==============================] - 0s 589us/step - loss: 0.3390 - accuracy: 0.8534\n"
     ]
    },
    {
     "data": {
      "text/markdown": [
       "<h4><u>Récapitulatif du modèle :</h4></u>\n",
       "Ce modèle avait 2 couches denses :\n",
       "<ul><li>la première avec <b>25 neurones</b> et une fonction d'activation <b>tanh</b> ;</li>\n",
       "<li> la seconde avec <b>50 neurones</b> et une fonction d'activation <b>tanh</b> ;</li>\n",
       "<li> la couche de sortie comportait <b>2 neurones</b> et une fonction d'activation <b>softmax</b> ;</li>\n",
       "<li> apprentissage sur <b>6 epochs</b> par batch de <b>32</b>.</li></ul>\n"
      ],
      "text/plain": [
       "<IPython.core.display.Markdown object>"
      ]
     },
     "metadata": {},
     "output_type": "display_data"
    },
    {
     "name": "stdout",
     "output_type": "stream",
     "text": [
      "Model: \"model_4\"\n",
      "_________________________________________________________________\n",
      " Layer (type)                Output Shape              Param #   \n",
      "=================================================================\n",
      " Input (InputLayer)          [(None, 22)]              0         \n",
      "                                                                 \n",
      " Dense_1 (Dense)             (None, 25)                575       \n",
      "                                                                 \n",
      " Dense_2 (Dense)             (None, 50)                1300      \n",
      "                                                                 \n",
      " Dense_3 (Dense)             (None, 2)                 102       \n",
      "                                                                 \n",
      "=================================================================\n",
      "Total params: 1,977\n",
      "Trainable params: 1,977\n",
      "Non-trainable params: 0\n",
      "_________________________________________________________________\n"
     ]
    },
    {
     "data": {
      "text/markdown": [
       "<h4><u>Résultats du modèle :</h4></u>\n",
       "<ul><li> Prédiction des <b>jours de pluie</b> avec une précision de <b>70.23 %</b> (<i>recall = <b>55.72 %</b></i>) ;</li>\n",
       "<li> Prédiction des <b>jours sans pluie</b> avec une précision de <b>88.46 %</b> (<i>recall = <b>93.5 %</b></i>) ;</li>\n",
       "<li>La précision globale du modèle est de <b>85.34 %</b>.</li></ul>\n",
       "L'activation des couches denses par la fonction tangente hyperbolique (au lieu de relu dans modèle initial) \n",
       "ne semble pas modifier les performances.\n"
      ],
      "text/plain": [
       "<IPython.core.display.Markdown object>"
      ]
     },
     "metadata": {},
     "output_type": "display_data"
    },
    {
     "data": {
      "text/markdown": [
       "<i><h5>Rapport de classification :</h5></i>"
      ],
      "text/plain": [
       "<IPython.core.display.Markdown object>"
      ]
     },
     "metadata": {},
     "output_type": "display_data"
    },
    {
     "name": "stdout",
     "output_type": "stream",
     "text": [
      "              precision    recall  f1-score   support\n",
      "\n",
      "           0       0.88      0.93      0.91     20250\n",
      "           1       0.70      0.56      0.62      5576\n",
      "\n",
      "    accuracy                           0.85     25826\n",
      "   macro avg       0.79      0.75      0.77     25826\n",
      "weighted avg       0.85      0.85      0.85     25826\n",
      "\n"
     ]
    },
    {
     "data": {
      "text/markdown": [
       "<i><h5>Matrice de confusion :</h5></i>"
      ],
      "text/plain": [
       "<IPython.core.display.Markdown object>"
      ]
     },
     "metadata": {},
     "output_type": "display_data"
    },
    {
     "name": "stdout",
     "output_type": "stream",
     "text": [
      "Prédiction      0     1\n",
      "Réel                   \n",
      "0           18933  1317\n",
      "1            2469  3107\n"
     ]
    }
   ],
   "source": [
    "display(Markdown(\"\"\"<h2><center><u>Effet des fonctions d'activation</u></h2></center>\n",
    "<h4><u>Entrainement du modèle :</u></h4>\"\"\"))\n",
    "\n",
    "EPOCHS = 6\n",
    "BATCHS = 32\n",
    "\n",
    "UNITS1 = 25\n",
    "UNITS2 = 50\n",
    "UNITS3 = None\n",
    "UNITS4 = None\n",
    "UNITS5 = None\n",
    "UNITSOUT = 2\n",
    "\n",
    "ACTIV1 = \"tanh\"\n",
    "ACTIV2 = \"tanh\"\n",
    "ACTIV3 = None\n",
    "ACTIV4 = None\n",
    "ACTIV5 = None\n",
    "\n",
    "\n",
    "inputs = Input(shape = X_train_scaled.shape[1], name = \"Input\")\n",
    "dense1 = Dense(units = UNITS1, activation = ACTIV1, kernel_initializer = \"normal\", name = \"Dense_1\")\n",
    "dense2 = Dense(units = UNITS2, activation = ACTIV2, kernel_initializer = \"normal\", name = \"Dense_2\")\n",
    "dense3 = Dense(units = UNITSOUT, activation = \"softmax\", name = \"Dense_3\")\n",
    "\n",
    "x = dense1(inputs)\n",
    "x = dense2(x)\n",
    "outputs = dense3(x)\n",
    "\n",
    "model = Model(inputs = inputs, outputs = outputs)\n",
    "model.compile(loss = \"sparse_categorical_crossentropy\", optimizer = \"adam\", metrics = [\"accuracy\"])\n",
    "training_history = model.fit(X_train_scaled, y_train, epochs = EPOCHS, batch_size = BATCHS, validation_data=(X_test_scaled,y_test))\n",
    "\n",
    "#calcul du score\n",
    "score = model.evaluate(X_test_scaled, y_test)\n",
    "\n",
    "#prédiction\n",
    "test_pred = model.predict(X_test_scaled)\n",
    "\n",
    "y_test_class = y_test\n",
    "y_pred_class = np.argmax(test_pred, axis = 1)\n",
    "\n",
    "#Résultats\n",
    "precis = classification_report(y_test_class, y_pred_class,output_dict=True)\n",
    "\n",
    "#Output\n",
    "display(Markdown(\"\"\"<h4><u>Récapitulatif du modèle :</h4></u>\n",
    "Ce modèle avait 2 couches denses :\n",
    "<ul><li>la première avec <b>{} neurones</b> et une fonction d'activation <b>{}</b> ;</li>\n",
    "<li> la seconde avec <b>{} neurones</b> et une fonction d'activation <b>{}</b> ;</li>\n",
    "<li> la couche de sortie comportait <b>2 neurones</b> et une fonction d'activation <b>softmax</b> ;</li>\n",
    "<li> apprentissage sur <b>{} epochs</b> par batch de <b>{}</b>.</li></ul>\n",
    "\"\"\".format(UNITS1, ACTIV1, UNITS2, ACTIV2, EPOCHS, BATCHS)))\n",
    "\n",
    "model.summary()\n",
    "\n",
    "display(Markdown(\"\"\"<h4><u>Résultats du modèle :</h4></u>\n",
    "<ul><li> Prédiction des <b>jours de pluie</b> avec une précision de <b>{} %</b> (<i>recall = <b>{} %</b></i>) ;</li>\n",
    "<li> Prédiction des <b>jours sans pluie</b> avec une précision de <b>{} %</b> (<i>recall = <b>{} %</b></i>) ;</li>\n",
    "<li>La précision globale du modèle est de <b>{} %</b>.</li></ul>\n",
    "L'activation des couches denses par la fonction tangente hyperbolique (au lieu de relu dans modèle initial) \n",
    "ne semble pas modifier les performances.\n",
    "\"\"\".format(\n",
    "    round(100*precis[\"1\"][\"precision\"],2),\n",
    "    round(100*precis[\"1\"][\"recall\"],2),\n",
    "    round(100*precis[\"0\"][\"precision\"],2),\n",
    "    round(100*precis[\"0\"][\"recall\"],2),\n",
    "    round(100*precis[\"accuracy\"],2)\n",
    ")))\n",
    "\n",
    "display(Markdown(\"<i><h5>Rapport de classification :</h5></i>\"))\n",
    "print(classification_report(y_test_class, y_pred_class))\n",
    "display(Markdown(\"<i><h5>Matrice de confusion :</h5></i>\"))\n",
    "print(pd.crosstab(y_test_class, y_pred_class, rownames = [\"Réel\"], colnames = [\"Prédiction\"]))"
   ]
  },
  {
   "cell_type": "code",
   "execution_count": 8,
   "id": "2ad4f998",
   "metadata": {},
   "outputs": [
    {
     "data": {
      "text/markdown": [
       "<h2><center><u>Effet du nombre de couches de neurones</u></h2></center>\n",
       "<h4><u>Entrainement du modèle :</u></h4>"
      ],
      "text/plain": [
       "<IPython.core.display.Markdown object>"
      ]
     },
     "metadata": {},
     "output_type": "display_data"
    },
    {
     "name": "stdout",
     "output_type": "stream",
     "text": [
      "Epoch 1/6\n",
      "3229/3229 [==============================] - 3s 955us/step - loss: 0.3555 - accuracy: 0.8460 - val_loss: 0.3388 - val_accuracy: 0.8543\n",
      "Epoch 2/6\n",
      "3229/3229 [==============================] - 3s 953us/step - loss: 0.3445 - accuracy: 0.8506 - val_loss: 0.3374 - val_accuracy: 0.8544\n",
      "Epoch 3/6\n",
      "3229/3229 [==============================] - 3s 932us/step - loss: 0.3428 - accuracy: 0.8516 - val_loss: 0.3362 - val_accuracy: 0.8541\n",
      "Epoch 4/6\n",
      "3229/3229 [==============================] - 3s 928us/step - loss: 0.3414 - accuracy: 0.8526 - val_loss: 0.3338 - val_accuracy: 0.8556\n",
      "Epoch 5/6\n",
      "3229/3229 [==============================] - 3s 927us/step - loss: 0.3395 - accuracy: 0.8530 - val_loss: 0.3352 - val_accuracy: 0.8550\n",
      "Epoch 6/6\n",
      "3229/3229 [==============================] - 3s 930us/step - loss: 0.3379 - accuracy: 0.8528 - val_loss: 0.3332 - val_accuracy: 0.8559\n",
      "808/808 [==============================] - 1s 605us/step - loss: 0.3332 - accuracy: 0.8559\n"
     ]
    },
    {
     "data": {
      "text/markdown": [
       "<h4><u>Récapitulatif du modèle :</h4></u>\n",
       "Ce modèle avait 3 couches denses :\n",
       "<ul><li>la première avec <b>25 neurones</b> et une fonction d'activation <b>relu</b> ;</li>\n",
       "<li> la seconde avec <b>50 neurones</b> et une fonction d'activation <b>relu</b> ;</li>\n",
       "<li> la troisième avec <b>50 neurones</b> et une fonction d'activation <b>relu</b> ;</li>\n",
       "<li> la couche de sortie comportait <b>2 neurones</b> et une fonction d'activation <b>softmax</b> ;</li>\n",
       "<li> apprentissage sur <b>6 epochs</b> par batch de <b>32</b>.</li></ul>\n"
      ],
      "text/plain": [
       "<IPython.core.display.Markdown object>"
      ]
     },
     "metadata": {},
     "output_type": "display_data"
    },
    {
     "name": "stdout",
     "output_type": "stream",
     "text": [
      "Model: \"model_5\"\n",
      "_________________________________________________________________\n",
      " Layer (type)                Output Shape              Param #   \n",
      "=================================================================\n",
      " Input (InputLayer)          [(None, 22)]              0         \n",
      "                                                                 \n",
      " Dense_1 (Dense)             (None, 25)                575       \n",
      "                                                                 \n",
      " Dense_2 (Dense)             (None, 50)                1300      \n",
      "                                                                 \n",
      " Dense_3 (Dense)             (None, 50)                2550      \n",
      "                                                                 \n",
      " Dense_4 (Dense)             (None, 2)                 102       \n",
      "                                                                 \n",
      "=================================================================\n",
      "Total params: 4,527\n",
      "Trainable params: 4,527\n",
      "Non-trainable params: 0\n",
      "_________________________________________________________________\n"
     ]
    },
    {
     "data": {
      "text/markdown": [
       "<h4><u>Résultats du modèle :</h4></u>\n",
       "<ul><li> Prédiction des <b>jours de pluie</b> avec une précision de <b>73.12 %</b> (<i>recall = <b>52.6 %</b></i>) ;</li>\n",
       "<li> Prédiction des <b>jours sans pluie</b> avec une précision de <b>87.88 %</b> (<i>recall = <b>94.68 %</b></i>) ;</li>\n",
       "<li>La précision globale du modèle est de <b>85.59 %</b>.</li></ul>\n",
       "L'ajout d'une troisième couche de neurones ne semble pas modifier les performances.\n"
      ],
      "text/plain": [
       "<IPython.core.display.Markdown object>"
      ]
     },
     "metadata": {},
     "output_type": "display_data"
    },
    {
     "data": {
      "text/markdown": [
       "<i><h5>Rapport de classification :</h5></i>"
      ],
      "text/plain": [
       "<IPython.core.display.Markdown object>"
      ]
     },
     "metadata": {},
     "output_type": "display_data"
    },
    {
     "name": "stdout",
     "output_type": "stream",
     "text": [
      "              precision    recall  f1-score   support\n",
      "\n",
      "           0       0.88      0.95      0.91     20250\n",
      "           1       0.73      0.53      0.61      5576\n",
      "\n",
      "    accuracy                           0.86     25826\n",
      "   macro avg       0.81      0.74      0.76     25826\n",
      "weighted avg       0.85      0.86      0.85     25826\n",
      "\n"
     ]
    },
    {
     "data": {
      "text/markdown": [
       "<i><h5>Matrice de confusion :</h5></i>"
      ],
      "text/plain": [
       "<IPython.core.display.Markdown object>"
      ]
     },
     "metadata": {},
     "output_type": "display_data"
    },
    {
     "name": "stdout",
     "output_type": "stream",
     "text": [
      "Classe prédite      0     1\n",
      "Classe réelle              \n",
      "0               19172  1078\n",
      "1                2643  2933\n"
     ]
    }
   ],
   "source": [
    "display(Markdown(\"\"\"<h2><center><u>Effet du nombre de couches de neurones</u></h2></center>\n",
    "<h4><u>Entrainement du modèle :</u></h4>\"\"\"))\n",
    "\n",
    "EPOCHS = 6\n",
    "BATCHS = 32\n",
    "\n",
    "UNITS1 = 25\n",
    "UNITS2 = 50\n",
    "UNITS3 = 50\n",
    "UNITS4 = None\n",
    "UNITS5 = None\n",
    "UNITSOUT = 2\n",
    "\n",
    "ACTIV1 = \"relu\"\n",
    "ACTIV2 = \"relu\"\n",
    "ACTIV3 = \"relu\"\n",
    "ACTIV4 = None\n",
    "ACTIV5 = None\n",
    "\n",
    "\n",
    "inputs = Input(shape = X_train_scaled.shape[1], name = \"Input\")\n",
    "dense1 = Dense(units = UNITS1, activation = ACTIV1, kernel_initializer = \"normal\", name = \"Dense_1\")\n",
    "dense2 = Dense(units = UNITS2, activation = ACTIV2, kernel_initializer = \"normal\", name = \"Dense_2\")\n",
    "dense3 = Dense(units = UNITS3, activation = ACTIV3, kernel_initializer = \"normal\", name = \"Dense_3\")\n",
    "dense4 = Dense(units = UNITSOUT, activation = \"softmax\", name = \"Dense_4\")\n",
    "\n",
    "x = dense1(inputs)\n",
    "x = dense2(x)\n",
    "x = dense3(x)\n",
    "outputs = dense4(x)\n",
    "\n",
    "model = Model(inputs = inputs, outputs = outputs)\n",
    "model.compile(loss = \"sparse_categorical_crossentropy\", optimizer = \"adam\", metrics = [\"accuracy\"])\n",
    "training_history = model.fit(X_train_scaled, y_train, epochs = EPOCHS, batch_size = BATCHS, validation_data=(X_test_scaled,y_test))\n",
    "\n",
    "#calcul du score\n",
    "score = model.evaluate(X_test_scaled, y_test)\n",
    "\n",
    "#prédiction\n",
    "test_pred = model.predict(X_test_scaled)\n",
    "\n",
    "y_test_class = y_test\n",
    "y_pred_class = np.argmax(test_pred, axis = 1)\n",
    "\n",
    "#Résultats\n",
    "precis = classification_report(y_test_class, y_pred_class,output_dict=True)\n",
    "\n",
    "#Output\n",
    "display(Markdown(\"\"\"<h4><u>Récapitulatif du modèle :</h4></u>\n",
    "Ce modèle avait 3 couches denses :\n",
    "<ul><li>la première avec <b>{} neurones</b> et une fonction d'activation <b>{}</b> ;</li>\n",
    "<li> la seconde avec <b>{} neurones</b> et une fonction d'activation <b>{}</b> ;</li>\n",
    "<li> la troisième avec <b>{} neurones</b> et une fonction d'activation <b>{}</b> ;</li>\n",
    "<li> la couche de sortie comportait <b>2 neurones</b> et une fonction d'activation <b>softmax</b> ;</li>\n",
    "<li> apprentissage sur <b>{} epochs</b> par batch de <b>{}</b>.</li></ul>\n",
    "\"\"\".format(UNITS1, ACTIV1, UNITS2, ACTIV2, UNITS3, ACTIV3, EPOCHS, BATCHS)))\n",
    "\n",
    "model.summary()\n",
    "\n",
    "display(Markdown(\"\"\"<h4><u>Résultats du modèle :</h4></u>\n",
    "<ul><li> Prédiction des <b>jours de pluie</b> avec une précision de <b>{} %</b> (<i>recall = <b>{} %</b></i>) ;</li>\n",
    "<li> Prédiction des <b>jours sans pluie</b> avec une précision de <b>{} %</b> (<i>recall = <b>{} %</b></i>) ;</li>\n",
    "<li>La précision globale du modèle est de <b>{} %</b>.</li></ul>\n",
    "L'ajout d'une troisième couche de neurones ne semble pas modifier les performances.\n",
    "\"\"\".format(\n",
    "    round(100*precis[\"1\"][\"precision\"],2),\n",
    "    round(100*precis[\"1\"][\"recall\"],2),\n",
    "    round(100*precis[\"0\"][\"precision\"],2),\n",
    "    round(100*precis[\"0\"][\"recall\"],2),\n",
    "    round(100*precis[\"accuracy\"],2)\n",
    ")))\n",
    "\n",
    "display(Markdown(\"<i><h5>Rapport de classification :</h5></i>\"))\n",
    "print(classification_report(y_test_class, y_pred_class))\n",
    "display(Markdown(\"<i><h5>Matrice de confusion :</h5></i>\"))\n",
    "print(pd.crosstab(y_test_class, y_pred_class, rownames = [\"Classe réelle\"], colnames = [\"Classe prédite\"]))"
   ]
  }
 ],
 "metadata": {
  "kernelspec": {
   "display_name": "Python 3",
   "language": "python",
   "name": "python3"
  },
  "language_info": {
   "codemirror_mode": {
    "name": "ipython",
    "version": 3
   },
   "file_extension": ".py",
   "mimetype": "text/x-python",
   "name": "python",
   "nbconvert_exporter": "python",
   "pygments_lexer": "ipython3",
   "version": "3.8.8"
  }
 },
 "nbformat": 4,
 "nbformat_minor": 5
}
