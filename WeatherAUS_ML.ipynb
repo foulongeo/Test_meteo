{
 "cells": [
  {
   "cell_type": "markdown",
   "id": "342f66ef",
   "metadata": {},
   "source": [
    "##  <font color = \"navy\">WEATHER FORECAST IN AUSTRALIA: Modélisation machine learning</font>\n",
    "Notebook <b>2/3</b>\n",
    "***\n",
    "\n",
    "<font color = \"purple\"><b>Objectif: Réaliser un modèle de machine learning capable de détecter les jours de pluie à J+1 avec une précision satisfaisante.</b></font>\n",
    "\n",
    "<b> Résumé du notebook : </b>\n",
    "- Data cleaning, preprocessing des données (notamment encodage, et rééquilibrage) ;\n",
    "- Modélisation Random Forest ;\n",
    "- Analyse des résultats et perspectives d'améliorations du modèle ;\n",
    "- Essai d'amélioration des performances du modèle."
   ]
  },
  {
   "cell_type": "code",
   "execution_count": 6,
   "id": "c0cf31da",
   "metadata": {},
   "outputs": [],
   "source": [
    "import pandas as pd\n",
    "import numpy as np\n",
    "import matplotlib.pyplot as plt\n",
    "import seaborn as sns\n",
    "import matplotlib.patches as mpatches\n",
    "from imblearn.under_sampling import RandomUnderSampler\n",
    "from imblearn.over_sampling  import RandomOverSampler\n",
    "from sklearn.ensemble import RandomForestClassifier\n",
    "from sklearn import preprocessing, metrics\n",
    "from sklearn.model_selection import train_test_split\n",
    "import warnings\n",
    "from scipy import stats\n",
    "from IPython.display import Markdown, display\n",
    "warnings.filterwarnings('ignore')\n",
    "sns.set_theme({'legend.frameon':True})"
   ]
  },
  {
   "cell_type": "code",
   "execution_count": 7,
   "id": "f87fd3e3",
   "metadata": {},
   "outputs": [],
   "source": [
    "df = pd.read_csv(\"weatherAUS.csv\")\n",
    "\n",
    "#Création d'un df de secours pour avoir une trace des données brutes.\n",
    "\n",
    "df_saved = pd.read_csv(\"weatherAUS.csv\")\n",
    "\n",
    "pd.set_option(\"display.max_columns\", None)"
   ]
  },
  {
   "cell_type": "code",
   "execution_count": 8,
   "id": "09afb795",
   "metadata": {},
   "outputs": [
    {
     "data": {
      "text/markdown": [
       "<h2><u><center>Préprocessing des données</center></u></h2>"
      ],
      "text/plain": [
       "<IPython.core.display.Markdown object>"
      ]
     },
     "metadata": {},
     "output_type": "display_data"
    },
    {
     "data": {
      "text/markdown": [
       "<h4><u>Traitement des données manquantes :</u></h4>"
      ],
      "text/plain": [
       "<IPython.core.display.Markdown object>"
      ]
     },
     "metadata": {},
     "output_type": "display_data"
    },
    {
     "data": {
      "text/markdown": [
       "<h5><i>Suppressions :</i></h5>"
      ],
      "text/plain": [
       "<IPython.core.display.Markdown object>"
      ]
     },
     "metadata": {},
     "output_type": "display_data"
    },
    {
     "data": {
      "text/markdown": [
       "Les variables comportant une importante quantité de valeurs manquantes sont supprimées :\n",
       "<i>Rainfall</i>, <i>WindGustSpeed</i>, <i>Cloud9am</i>, <i>Cloud3pm</i>, <i>Pressure9am</i>, \n",
       "<i>Pressure3pm</i>, <i>Evaporation</i> et <i>Sunshine</i>. Concernant les variables <i>RainToday</i> et <i>RainTomorrow</i>,\n",
       "les entrées avec une valeur manquante pour l'une de ces variables sont supprimées.\n"
      ],
      "text/plain": [
       "<IPython.core.display.Markdown object>"
      ]
     },
     "metadata": {},
     "output_type": "display_data"
    },
    {
     "data": {
      "text/markdown": [
       "<h5><i>Remplacement :</i></h5>"
      ],
      "text/plain": [
       "<IPython.core.display.Markdown object>"
      ]
     },
     "metadata": {},
     "output_type": "display_data"
    },
    {
     "data": {
      "text/markdown": [
       "Pour garder une cohérence dans les valeurs de remplacement, les manquants seront remplacés, \n",
       "pour chaque variable, par la moyenne sur le mois en fonction de l'année et de la sation considérée. Création de variables\n",
       "temporaires : <i>year</i>, <i>month</i> et <i>day</i>, afin de procéder à un tel remplacement. Les variables <i>WindSpeed9am</i>\n",
       "et <i>WindSpeed3pm</i> ne seront pas concernées par ce remplacement, en raison de l'importante variabilité existante d'un jour\n",
       "à l'autre.\n"
      ],
      "text/plain": [
       "<IPython.core.display.Markdown object>"
      ]
     },
     "metadata": {},
     "output_type": "display_data"
    },
    {
     "data": {
      "text/markdown": [
       "<i>Affichage des valeurs manquantes restantes après remplacement :"
      ],
      "text/plain": [
       "<IPython.core.display.Markdown object>"
      ]
     },
     "metadata": {},
     "output_type": "display_data"
    },
    {
     "name": "stdout",
     "output_type": "stream",
     "text": [
      "Location           0\n",
      "MinTemp            0\n",
      "MaxTemp            0\n",
      "WindGustDir     9163\n",
      "WindDir9am      9660\n",
      "WindDir3pm      3670\n",
      "WindSpeed9am    1055\n",
      "WindSpeed3pm    2531\n",
      "Humidity9am      418\n",
      "Humidity3pm     2386\n",
      "Temp9am            0\n",
      "Temp3pm         2427\n",
      "RainToday          0\n",
      "RainTomorrow       0\n",
      "year               0\n",
      "month              0\n",
      "day                0\n",
      "dtype: int64\n"
     ]
    },
    {
     "data": {
      "text/markdown": [
       "<br>Malgré le traitement, il reste encore des valeurs manquantes pour <i>Humidity</i> et <i>Temp3pm</i>.\n",
       "Il existe en effet des stations pour lesquelles les relevés sont manquants pour le mois complet : les valeurs manquantes restantes\n",
       "seront toutes supprimées.\n"
      ],
      "text/plain": [
       "<IPython.core.display.Markdown object>"
      ]
     },
     "metadata": {},
     "output_type": "display_data"
    },
    {
     "data": {
      "text/markdown": [
       "<h5><i>Bilan du traitement :</i></h5>"
      ],
      "text/plain": [
       "<IPython.core.display.Markdown object>"
      ]
     },
     "metadata": {},
     "output_type": "display_data"
    },
    {
     "data": {
      "text/markdown": [
       "Après traitement des données manquantes, la base de données comporte <b>122649</b> entrées (<b>84.3 %</b> des \n",
       "entrées initiales). Sur les 49 stations, les données de <b>2</b> d'entre elles ont été complètement supprimées. Enfin,\n",
       "les variables <i>Location</i>, <i>year</i>, <i>month</i> et <i>day</i> n'auront pas d'utilité pour la modélisation et \n",
       "sont donc supprimées de la base.\n"
      ],
      "text/plain": [
       "<IPython.core.display.Markdown object>"
      ]
     },
     "metadata": {},
     "output_type": "display_data"
    },
    {
     "data": {
      "text/markdown": [
       "<h4><u>Préparation des données</u></h4>"
      ],
      "text/plain": [
       "<IPython.core.display.Markdown object>"
      ]
     },
     "metadata": {},
     "output_type": "display_data"
    },
    {
     "data": {
      "text/markdown": [
       "<h5><i>Encodage des variables qualitatives</i></h5>"
      ],
      "text/plain": [
       "<IPython.core.display.Markdown object>"
      ]
     },
     "metadata": {},
     "output_type": "display_data"
    },
    {
     "data": {
      "text/markdown": [
       "Pour <i>RainToday</i> et <i>RainTomorrow</i>, la valeur \"<i>Yes</i>\" est remplacée par l'entier 1 et la\n",
       "valeur \"<i>No</i>\" est remplacée par l'entier 0. Concernant les variables relatives à la direction du vent (<i>WindGustDir</i>,\n",
       "<i>WindDir9am</i> et <i>WindDir3pm</i>), celles-ci ont chacune 16 modalités, l'utilisation d'une méthode <i>.get_dummies</i>\n",
       "entraînerait la création de 48 variables. L'encodage sera fait avec la méthode <i>.LabelEncoder</i> qui ne semble pas biaiser\n",
       "le poids des modalités lorsque comparé à <i>.get_dummies</i>.\n"
      ],
      "text/plain": [
       "<IPython.core.display.Markdown object>"
      ]
     },
     "metadata": {},
     "output_type": "display_data"
    },
    {
     "data": {
      "text/markdown": [
       "<h5><i>Création des ensembles train et test :</i></h5>"
      ],
      "text/plain": [
       "<IPython.core.display.Markdown object>"
      ]
     },
     "metadata": {},
     "output_type": "display_data"
    },
    {
     "data": {
      "text/markdown": [
       "Le dataframe est séparé en deux dataframes nommés \"data\" et \"target\", le premier contenant\n",
       "toutes les variables sauf <i>RainTomorrow</i> et le second uniquement <i>RainTomorrow</i>, la variable à prédire. Le ratio\n",
       "est fixé à 0.2 pour les ensembles d'apprentissage et de test. Les données sont ensuite rééquilibrées à l'aide d'un\n",
       "oversampling (fraction 60/40) puis d'un undersampling.\n"
      ],
      "text/plain": [
       "<IPython.core.display.Markdown object>"
      ]
     },
     "metadata": {},
     "output_type": "display_data"
    }
   ],
   "source": [
    "display(Markdown(\"<h2><u><center>Préprocessing des données</center></u></h2>\"))\n",
    "display(Markdown(\"<h4><u>Traitement des données manquantes :</u></h4>\"))\n",
    "display(Markdown(\"<h5><i>Suppressions :</i></h5>\"))\n",
    "\n",
    "df = df.drop(['Rainfall', 'WindGustSpeed', 'Cloud9am', 'Cloud3pm', 'Pressure9am', 'Pressure3pm','Evaporation', 'Sunshine'], axis = 1)\n",
    "df.dropna(axis = 0, how = 'any', subset = ['RainToday', 'RainTomorrow'], inplace = True)\n",
    "df['year'] = pd.to_datetime(df.Date).dt.year\n",
    "df['month'] = pd.to_datetime(df.Date).dt.month\n",
    "df['day'] = pd.to_datetime(df.Date).dt.day\n",
    "\n",
    "df.drop('Date', axis = 1, inplace = True)\n",
    "\n",
    "\n",
    "display(Markdown(\"\"\"Les variables comportant une importante quantité de valeurs manquantes sont supprimées :\n",
    "<i>Rainfall</i>, <i>WindGustSpeed</i>, <i>Cloud9am</i>, <i>Cloud3pm</i>, <i>Pressure9am</i>, \n",
    "<i>Pressure3pm</i>, <i>Evaporation</i> et <i>Sunshine</i>. Concernant les variables <i>RainToday</i> et <i>RainTomorrow</i>,\n",
    "les entrées avec une valeur manquante pour l'une de ces variables sont supprimées.\n",
    "\"\"\"))\n",
    "\n",
    "display(Markdown(\"<h5><i>Remplacement :</i></h5>\"))\n",
    "display(Markdown(\"\"\"Pour garder une cohérence dans les valeurs de remplacement, les manquants seront remplacés, \n",
    "pour chaque variable, par la moyenne sur le mois en fonction de l'année et de la sation considérée. Création de variables\n",
    "temporaires : <i>year</i>, <i>month</i> et <i>day</i>, afin de procéder à un tel remplacement. Les variables <i>WindSpeed9am</i>\n",
    "et <i>WindSpeed3pm</i> ne seront pas concernées par ce remplacement, en raison de l'importante variabilité existante d'un jour\n",
    "à l'autre.\n",
    "\"\"\"))\n",
    "\n",
    "mean_per_location = df.groupby(['Location','month', 'year']).mean().reset_index()\n",
    "\n",
    "for row in df.itertuples():\n",
    "    # Si l'attribut MinTemp de la ligne row est nul: on va remplacer dans df, à l'index row, la valeur de MinTemp, par la moyenne calculée dans mean_per_location, pour la station/mois/année correspondante.\n",
    "    if pd.isna(row.MinTemp):\n",
    "        df.loc[row.Index, 'MinTemp'] = mean_per_location[(mean_per_location['Location'] == row.Location) & (mean_per_location['month'] == row.month) & (mean_per_location['year'] == row.year)]['MinTemp'].values[0]\n",
    "    \n",
    "    # On applique le même raisonnement pour MaxTemp et autres...\n",
    "    if pd.isna(row.MaxTemp):\n",
    "        df.loc[row.Index, 'MaxTemp'] = mean_per_location[(mean_per_location['Location'] == row.Location) & (mean_per_location['month'] == row.month) & (mean_per_location['year'] == row.year)]['MaxTemp'].values[0]\n",
    "    \n",
    "    if pd.isna(row.Temp9am):\n",
    "        df.loc[row.Index, 'Temp9am'] = mean_per_location[(mean_per_location['Location'] == row.Location) & (mean_per_location['month'] == row.month) & (mean_per_location['year'] == row.year)]['Temp9am'].values[0]\n",
    "    \n",
    "    if pd.isna(row.Temp9am):\n",
    "        df.loc[row.Index, 'Temp3pm'] = mean_per_location[(mean_per_location['Location'] == row.Location) & (mean_per_location['month'] == row.month) & (mean_per_location['year'] == row.year)]['Temp3pm'].values[0]\n",
    "    \n",
    "    if pd.isna(row.Humidity9am):\n",
    "        df.loc[row.Index, 'Humidity9am'] = mean_per_location[(mean_per_location['Location'] == row.Location) & (mean_per_location['month'] == row.month) & (mean_per_location['year'] == row.year)]['Humidity9am'].values[0]\n",
    "    \n",
    "    if pd.isna(row.Humidity3pm):\n",
    "        df.loc[row.Index, 'Humidity3pm'] = mean_per_location[(mean_per_location['Location'] == row.Location) & (mean_per_location['month'] == row.month) & (mean_per_location['year'] == row.year)]['Humidity3pm'].values[0]\n",
    "\n",
    "display(Markdown(\"<i>Affichage des valeurs manquantes restantes après remplacement :\"))\n",
    "print(df.isna().sum())\n",
    "display(Markdown(\"\"\"<br>Malgré le traitement, il reste encore des valeurs manquantes pour <i>Humidity</i> et <i>Temp3pm</i>.\n",
    "Il existe en effet des stations pour lesquelles les relevés sont manquants pour le mois complet : les valeurs manquantes restantes\n",
    "seront toutes supprimées.\n",
    "\"\"\"))\n",
    "\n",
    "df.dropna(axis = 0, subset = ['Humidity9am', 'Humidity3pm', 'Temp3pm', 'WindSpeed9am', 'WindSpeed3pm','WindGustDir', 'WindDir9am', 'WindDir3pm'], inplace = True)\n",
    "\n",
    "display(Markdown(\"<h5><i>Bilan du traitement :</i></h5>\"))\n",
    "# Stations supprimées: \n",
    "Loc = ['Albury', 'BadgerysCreek', 'Cobar', 'CoffsHarbour', 'Moree','Newcastle', 'NorahHead', 'NorfolkIsland', \n",
    "       'Penrith', 'Richmond', 'Sydney', 'SydneyAirport', 'WaggaWagga', 'Williamtown', 'Wollongong', 'Canberra', \n",
    "       'Tuggeranong', 'MountGinini', 'Ballarat', 'Bendigo', 'Sale', 'MelbourneAirport', 'Melbourne', 'Mildura', \n",
    "       'Nhil', 'Portland', 'Watsonia', 'Dartmoor', 'Brisbane', 'Cairns', 'GoldCoast', 'Townsville', 'Adelaide', \n",
    "       'MountGambier', 'Nuriootpa', 'Woomera', 'Albany', 'Witchcliffe', 'PearceRAAF', 'PerthAirport', 'Perth', \n",
    "       'SalmonGums', 'Walpole', 'Hobart', 'Launceston', 'AliceSprings', 'Darwin', 'Katherine', 'Uluru']\n",
    "\n",
    "stat_erased = []\n",
    "\n",
    "for loc in Loc:\n",
    "    if loc not in df.Location.unique():\n",
    "        stat_erased.append(loc)\n",
    "\n",
    "df.drop(['Location', 'year', 'month', 'day'], axis = 1, inplace = True)\n",
    "\n",
    "display(Markdown(\"\"\"Après traitement des données manquantes, la base de données comporte <b>{}</b> entrées (<b>{} %</b> des \n",
    "entrées initiales). Sur les 49 stations, les données de <b>{}</b> d'entre elles ont été complètement supprimées. Enfin,\n",
    "les variables <i>Location</i>, <i>year</i>, <i>month</i> et <i>day</i> n'auront pas d'utilité pour la modélisation et \n",
    "sont donc supprimées de la base.\n",
    "\"\"\".format(len(df),\n",
    "           round(100*len(df)/len(df_saved), 1),\n",
    "           len(stat_erased))))\n",
    "\n",
    "display(Markdown(\"<h4><u>Préparation des données</u></h4>\"))\n",
    "display(Markdown(\"<h5><i>Encodage des variables qualitatives</i></h5>\"))\n",
    "display(Markdown(\"\"\"Pour <i>RainToday</i> et <i>RainTomorrow</i>, la valeur \"<i>Yes</i>\" est remplacée par l'entier 1 et la\n",
    "valeur \"<i>No</i>\" est remplacée par l'entier 0. Concernant les variables relatives à la direction du vent (<i>WindGustDir</i>,\n",
    "<i>WindDir9am</i> et <i>WindDir3pm</i>), celles-ci ont chacune 16 modalités, l'utilisation d'une méthode <i>.get_dummies</i>\n",
    "entraînerait la création de 48 variables. L'encodage sera fait avec la méthode <i>.LabelEncoder</i> qui ne semble pas biaiser\n",
    "le poids des modalités lorsque comparé à <i>.get_dummies</i>.\n",
    "\"\"\"))\n",
    "\n",
    "# RainToday et RainTomorrow:\n",
    "df.replace(['Yes', 'No'], [1, 0], inplace = True)\n",
    "\n",
    "#WindGustDir, WindDir9am et WindDir 3pm:\n",
    "wind = df['WindGustDir'].unique()\n",
    "label = preprocessing.LabelEncoder() \n",
    "labels = label.fit_transform(wind)\n",
    "df.replace(wind, labels, inplace = True)\n",
    "\n",
    "display(Markdown(\"<h5><i>Création des ensembles train et test :</i></h5>\"))\n",
    "display(Markdown(\"\"\"Le dataframe est séparé en deux dataframes nommés \"data\" et \"target\", le premier contenant\n",
    "toutes les variables sauf <i>RainTomorrow</i> et le second uniquement <i>RainTomorrow</i>, la variable à prédire. Le ratio\n",
    "est fixé à 0.2 pour les ensembles d'apprentissage et de test. Les données sont ensuite rééquilibrées à l'aide d'un\n",
    "oversampling (fraction 60/40) puis d'un undersampling.\n",
    "\"\"\"))\n",
    "\n",
    "data, target = df.drop('RainTomorrow', axis = 1), df['RainTomorrow']\n",
    "X_train, X_test, y_train, y_test = train_test_split(data, target, test_size = 0.2)\n",
    "over = RandomOverSampler(sampling_strategy = 0.6) # Fraction 60/40 \n",
    "under = RandomUnderSampler() \n",
    "X_ov, y_ov = over.fit_resample(X_train, y_train) \n",
    "X_res, y_res = under.fit_resample(X_ov, y_ov) \n",
    "\n"
   ]
  },
  {
   "cell_type": "code",
   "execution_count": 9,
   "id": "7be002e7",
   "metadata": {},
   "outputs": [
    {
     "data": {
      "text/markdown": [
       "<h2><u><center>Modélisation Random Forest</center></u></h2>"
      ],
      "text/plain": [
       "<IPython.core.display.Markdown object>"
      ]
     },
     "metadata": {},
     "output_type": "display_data"
    },
    {
     "data": {
      "text/markdown": [
       "<h4><u>Performances du modèle :</u></h4>"
      ],
      "text/plain": [
       "<IPython.core.display.Markdown object>"
      ]
     },
     "metadata": {},
     "output_type": "display_data"
    },
    {
     "data": {
      "text/markdown": [
       "<h5><i>Matrice de confusion :</i></h5>"
      ],
      "text/plain": [
       "<IPython.core.display.Markdown object>"
      ]
     },
     "metadata": {},
     "output_type": "display_data"
    },
    {
     "name": "stdout",
     "output_type": "stream",
     "text": [
      "Classe prédite      0     1\n",
      "Classe réelle              \n",
      "0               16976  2209\n",
      "1                1945  3400\n"
     ]
    },
    {
     "data": {
      "text/markdown": [
       "<h5><i>Rapport de classification :</i></h5>"
      ],
      "text/plain": [
       "<IPython.core.display.Markdown object>"
      ]
     },
     "metadata": {},
     "output_type": "display_data"
    },
    {
     "name": "stdout",
     "output_type": "stream",
     "text": [
      "              precision    recall  f1-score   support\n",
      "\n",
      "           0       0.90      0.88      0.89     19185\n",
      "           1       0.61      0.64      0.62      5345\n",
      "\n",
      "    accuracy                           0.83     24530\n",
      "   macro avg       0.75      0.76      0.76     24530\n",
      "weighted avg       0.83      0.83      0.83     24530\n",
      "\n"
     ]
    },
    {
     "data": {
      "text/markdown": [
       "Le modèle appliqué sur données ré-équilibrées par Over puis Undersampling montre \n",
       "un <i>f1_score</i> (<b>0.62</b>) acceptable, la classe “jour de pluie” est correctement détectée par le modèle. \n",
       "L’<i>accuracy</i> est de <b>0.83 %</b>, notre modèle semble fiable pour la détection correcte des classes \n",
       "(vrais négatifs et vrais positifs). \n"
      ],
      "text/plain": [
       "<IPython.core.display.Markdown object>"
      ]
     },
     "metadata": {},
     "output_type": "display_data"
    },
    {
     "data": {
      "text/markdown": [
       "<h4><u>Analyse feature importance :</u></h4>"
      ],
      "text/plain": [
       "<IPython.core.display.Markdown object>"
      ]
     },
     "metadata": {},
     "output_type": "display_data"
    },
    {
     "data": {
      "text/markdown": [
       "Les variables qui semblent le plus influer sur la prédiction sont les variables \n",
       "liées à l’humidité et à la température, toutefois les faibles scores appellent à la prudence pour leur interprétation.\n"
      ],
      "text/plain": [
       "<IPython.core.display.Markdown object>"
      ]
     },
     "metadata": {},
     "output_type": "display_data"
    },
    {
     "name": "stdout",
     "output_type": "stream",
     "text": [
      "              Importance\n",
      "Humidity3pm        0.245\n",
      "Humidity9am        0.098\n",
      "MinTemp            0.091\n",
      "Temp3pm            0.088\n",
      "Temp9am            0.079\n",
      "MaxTemp            0.079\n",
      "WindSpeed3pm       0.064\n",
      "WindSpeed9am       0.055\n",
      "WindDir9am         0.053\n",
      "WindDir3pm         0.053\n",
      "WindGustDir        0.052\n",
      "RainToday          0.045\n"
     ]
    },
    {
     "data": {
      "text/markdown": [
       "<h4><u>Analyse des faux positifs et faux négatifs :</u></h4>"
      ],
      "text/plain": [
       "<IPython.core.display.Markdown object>"
      ]
     },
     "metadata": {},
     "output_type": "display_data"
    },
    {
     "data": {
      "image/png": "[encoded data removed]",
      "text/plain": [
       "<Figure size 1296x864 with 8 Axes>"
      ]
     },
     "metadata": {},
     "output_type": "display_data"
    },
    {
     "data": {
      "text/markdown": [
       "Dans ces graphes, on considère tous les jours réels de pluie. Les box bleues correspondent à \n",
       "de fausses prédictions (FN) tandis que les oranges sont de bonnes prédictions (VP).\n",
       "Par rapport aux mauvaises prédictions, les bonnes prédictions sont issues de valeurs moins élevées pour les variables \n",
       "de fortes températures (<i>MaxTemp</i> et <i>Temp3pm</i>) et des valeurs plus élevées pour les variables liées à \n",
       "l’humidité et à la direction du vent le matin (<i>WindSpeed9am</i>). Nous pouvons également remarquer que ces variables \n",
       "présentent beaucoup de valeurs extrêmes.\n"
      ],
      "text/plain": [
       "<IPython.core.display.Markdown object>"
      ]
     },
     "metadata": {},
     "output_type": "display_data"
    }
   ],
   "source": [
    "display(Markdown(\"<h2><u><center>Modélisation Random Forest</center></u></h2>\"))\n",
    "display(Markdown(\"<h4><u>Performances du modèle :</u></h4>\"))\n",
    "\n",
    "rf1 = RandomForestClassifier()\n",
    "\n",
    "rf1.fit(X_res, y_res)\n",
    "y_pred1 = rf1.predict(X_test)\n",
    "\n",
    "display(Markdown(\"<h5><i>Matrice de confusion :</i></h5>\"))\n",
    "print(pd.crosstab(y_test, y_pred1, rownames = ['Classe réelle'], colnames = ['Classe prédite']))\n",
    "\n",
    "display(Markdown(\"<h5><i>Rapport de classification :</i></h5>\"))\n",
    "print(metrics.classification_report(y_test, y_pred1))\n",
    "\n",
    "display(Markdown(\"\"\"Le modèle appliqué sur données ré-équilibrées par Over puis Undersampling montre \n",
    "un <i>f1_score</i> (<b>{}</b>) acceptable, la classe “jour de pluie” est correctement détectée par le modèle. \n",
    "L’<i>accuracy</i> est de <b>{} %</b>, notre modèle semble fiable pour la détection correcte des classes \n",
    "(vrais négatifs et vrais positifs). \n",
    "\"\"\".format(round(metrics.classification_report(y_test, y_pred1,output_dict=True)[\"1\"][\"f1-score\"],2), \n",
    "           round(metrics.classification_report(y_test, y_pred1,output_dict=True)[\"accuracy\"],2))))\n",
    "\n",
    "display(Markdown(\"<h4><u>Analyse feature importance :</u></h4>\"))\n",
    "importances = rf1.feature_importances_\n",
    "impor=pd.DataFrame(data=(importances), index=data.columns, columns=['Importance'])\n",
    "impor=impor.sort_values(by='Importance', ascending=False)\n",
    "\n",
    "display(Markdown(\"\"\"Les variables qui semblent le plus influer sur la prédiction sont les variables \n",
    "liées à l’humidité et à la température, toutefois les faibles scores appellent à la prudence pour leur interprétation.\n",
    "\"\"\"))\n",
    "print(impor.head(15).round(3))\n",
    "\n",
    "display(Markdown(\"<h4><u>Analyse des faux positifs et faux négatifs :</u></h4>\"))\n",
    "\n",
    "predictions = pd.DataFrame(y_pred1).set_index(y_test.index)\n",
    "predictions.columns = ['predictions']\n",
    "df_rain = [y_test, predictions]\n",
    "df_compare = X_test.join(other = df_rain).reset_index()\n",
    "df_compare.drop('index', axis = 1,  inplace = True)\n",
    "\n",
    "# création des sous-df:\n",
    "VN = df_compare[(df_compare['RainTomorrow'] == 0) & (df_compare['predictions'] == 0)]\n",
    "VP = df_compare[(df_compare['RainTomorrow'] == 1) & (df_compare['predictions'] == 1)] #intéressant à analyser\n",
    "FP = df_compare[(df_compare['RainTomorrow'] == 0) & (df_compare['predictions'] == 1)] #intéressant à analyser\n",
    "FN = df_compare[(df_compare['RainTomorrow'] == 1) & (df_compare['predictions'] == 0)]\n",
    "\n",
    "FN_VP = pd.concat([FN, VP], axis = 0)\n",
    "\n",
    "plt.figure(figsize=(18, 12))\n",
    "\n",
    "plt.subplot(241)\n",
    "sns.boxplot(data=FN_VP, x='predictions', y='MinTemp')\n",
    "plt.xticks(size = 14)\n",
    "plt.yticks(size = 14)\n",
    "plt.xlabel(\"Prédiction\", fontsize = 16)\n",
    "plt.ylabel(\"MinTemp\", fontsize = 16)\n",
    "\n",
    "plt.subplot(242)\n",
    "sns.boxplot(data=FN_VP, x='predictions', y='MaxTemp')\n",
    "plt.xticks(size = 20)\n",
    "plt.yticks(size = 20)\n",
    "plt.xlabel(\"Prédiction\", fontsize = 16)\n",
    "plt.ylabel(\"MaxTemp\", fontsize = 16)\n",
    "\n",
    "plt.subplot(243)\n",
    "sns.boxplot(data=FN_VP, x='predictions', y='WindSpeed9am')\n",
    "plt.xticks(size = 20)\n",
    "plt.yticks(size = 20)\n",
    "plt.xlabel(\"Prédiction\", fontsize = 16)\n",
    "plt.ylabel(\"WindSpeed9am\", fontsize = 16)\n",
    "\n",
    "plt.subplot(244)\n",
    "sns.boxplot(data=FN_VP, x='predictions', y='WindSpeed3pm')\n",
    "plt.xticks(size = 20)\n",
    "plt.yticks(size = 20)\n",
    "plt.xlabel(\"Prédiction\", fontsize = 16)\n",
    "plt.ylabel(\"WindSpeed3pm\", fontsize = 16)\n",
    "\n",
    "plt.subplot(245)\n",
    "sns.boxplot(data=FN_VP, x='predictions', y='Humidity9am')\n",
    "plt.xticks(size = 20)\n",
    "plt.yticks(size = 20)\n",
    "plt.xlabel(\"Prédiction\", fontsize = 16)\n",
    "plt.ylabel(\"Humidity9am\", fontsize = 16)\n",
    "\n",
    "plt.subplot(246)\n",
    "sns.boxplot(data=FN_VP, x='predictions', y='Humidity3pm')\n",
    "plt.xticks(size = 20)\n",
    "plt.yticks(size = 20)\n",
    "plt.xlabel(\"Prédiction\", fontsize = 16)\n",
    "plt.ylabel(\"Humidity3pm\", fontsize = 16)\n",
    "\n",
    "plt.subplot(247)\n",
    "sns.boxplot(data=FN_VP, x='predictions', y='Temp9am')\n",
    "plt.xticks(size = 20)\n",
    "plt.yticks(size = 20)\n",
    "plt.xlabel(\"Prédiction\", fontsize = 16)\n",
    "plt.ylabel(\"Temp9am\", fontsize = 16)\n",
    "\n",
    "plt.subplot(248)\n",
    "sns.boxplot(data=FN_VP, x='predictions', y='Temp3pm');\n",
    "plt.xticks(size = 20)\n",
    "plt.yticks(size = 20)\n",
    "plt.xlabel(\"Prédiction\", fontsize = 16)\n",
    "plt.ylabel(\"Temp3pm\", fontsize = 16)\n",
    "\n",
    "plt.tight_layout(pad=2)\n",
    "plt.show();\n",
    "\n",
    "display(Markdown(\"\"\"Dans ces graphes, on considère tous les jours réels de pluie. Les box bleues correspondent à \n",
    "de fausses prédictions (FN) tandis que les oranges sont de bonnes prédictions (VP).\n",
    "Par rapport aux mauvaises prédictions, les bonnes prédictions sont issues de valeurs moins élevées pour les variables \n",
    "de fortes températures (<i>MaxTemp</i> et <i>Temp3pm</i>) et des valeurs plus élevées pour les variables liées à \n",
    "l’humidité et à la direction du vent le matin (<i>WindSpeed9am</i>). Nous pouvons également remarquer que ces variables \n",
    "présentent beaucoup de valeurs extrêmes.\n",
    "\"\"\"))\n"
   ]
  },
  {
   "cell_type": "code",
   "execution_count": 10,
   "id": "ab71db73",
   "metadata": {
    "scrolled": false
   },
   "outputs": [
    {
     "data": {
      "text/markdown": [
       "<h2><u><center>Essai d'amélioration du modèle</center></u></h2>"
      ],
      "text/plain": [
       "<IPython.core.display.Markdown object>"
      ]
     },
     "metadata": {},
     "output_type": "display_data"
    },
    {
     "data": {
      "text/markdown": [
       "<h4><u>Concept :</u></h4>"
      ],
      "text/plain": [
       "<IPython.core.display.Markdown object>"
      ]
     },
     "metadata": {},
     "output_type": "display_data"
    },
    {
     "data": {
      "text/markdown": [
       "Nous avons formulé l’hypothèse que la suppression de 8 variables pouvait limiter les performances \n",
       "du modèle, considérant que lesdites variables pouvaient influencer significativement la prédiction. Vu l’étendue du \n",
       "territoire australien et la diversité des climats présents, nous avions fait le choix de remplacer les valeurs manquantes \n",
       "station par station. Toutefois l’absence de valeurs sur des mois entiers empêchant de procéder à un tel remplacement, \n",
       "nous avons opté secondairement pour un rapprochement géographique. Sur les 49 stations, 6 n’étaient pas éligibles à un \n",
       "tel rapprochement avec au moins une autre station. Des 43 stations éligibles, nous avons procédé à un regroupement en \n",
       "15 groupes distincts, en suivant la concordance géographique selon une carte répertoriée sur le même site que les données.\n"
      ],
      "text/plain": [
       "<IPython.core.display.Markdown object>"
      ]
     },
     "metadata": {},
     "output_type": "display_data"
    },
    {
     "data": {
      "text/markdown": [
       "<h4><u>Préprocessing révisé :</u></h4>"
      ],
      "text/plain": [
       "<IPython.core.display.Markdown object>"
      ]
     },
     "metadata": {},
     "output_type": "display_data"
    },
    {
     "name": "stdout",
     "output_type": "stream",
     "text": [
      "In progress: df_Perth2. 6901 nans before cleaning (2.8 %)\n",
      "\tCleaning done: df_Perth2. 432 nans remaining (0.2 %)\n",
      "\n",
      "---------------------------------------------------------------\n",
      "In progress: df_Albany2. 38056 nans before cleaning (15.6 %)\n",
      "\tCleaning done: df_Albany2. 4583 nans remaining (2.0 %)\n",
      "\n",
      "---------------------------------------------------------------\n",
      "In progress: df_Alice2. 7895 nans before cleaning (6.3 %)\n",
      "\tCleaning done: df_Alice2. 381 nans remaining (0.3 %)\n",
      "\n",
      "---------------------------------------------------------------\n",
      "In progress: df_Adelaide2. 11572 nans before cleaning (6.9 %)\n",
      "\tCleaning done: df_Adelaide2. 498 nans remaining (0.3 %)\n",
      "\n",
      "---------------------------------------------------------------\n",
      "In progress: df_Nhil2. 14159 nans before cleaning (6.9 %)\n",
      "\tCleaning done: df_Nhil2. 473 nans remaining (0.2 %)\n",
      "\n",
      "---------------------------------------------------------------\n",
      "In progress: df_Portland2. 12342 nans before cleaning (5.0 %)\n",
      "\tCleaning done: df_Portland2. 780 nans remaining (0.3 %)\n",
      "\n",
      "---------------------------------------------------------------\n",
      "In progress: df_Melbourne2. 20439 nans before cleaning (5.0 %)\n",
      "\tCleaning done: df_Melbourne2. 737 nans remaining (0.2 %)\n",
      "\n",
      "---------------------------------------------------------------\n",
      "In progress: df_Albury2. 11516 nans before cleaning (7.1 %)\n",
      "\tCleaning done: df_Albury2. 723 nans remaining (0.5 %)\n",
      "\n",
      "---------------------------------------------------------------\n",
      "In progress: df_Canberra2. 21556 nans before cleaning (12.3 %)\n",
      "\tCleaning done: df_Canberra2. 1745 nans remaining (1.0 %)\n",
      "\n",
      "---------------------------------------------------------------\n",
      "In progress: df_Sydney2. 44262 nans before cleaning (10.6 %)\n",
      "\tCleaning done: df_Sydney2. 2778 nans remaining (0.7 %)\n",
      "\n",
      "---------------------------------------------------------------\n",
      "In progress: df_Newcastle2. 45155 nans before cleaning (18.5 %)\n",
      "\tCleaning done: df_Newcastle2. 5774 nans remaining (2.6 %)\n",
      "\n",
      "---------------------------------------------------------------\n",
      "In progress: df_Cobar2. 7528 nans before cleaning (4.6 %)\n",
      "\tCleaning done: df_Cobar2. 297 nans remaining (0.2 %)\n",
      "\n",
      "---------------------------------------------------------------\n",
      "In progress: df_Brisbane2. 20407 nans before cleaning (8.2 %)\n",
      "\tCleaning done: df_Brisbane2. 1108 nans remaining (0.5 %)\n",
      "\n",
      "---------------------------------------------------------------\n",
      "In progress: df_Cairns2. 2691 nans before cleaning (1.6 %)\n",
      "\tCleaning done: df_Cairns2. 210 nans remaining (0.1 %)\n",
      "\n",
      "---------------------------------------------------------------\n",
      "In progress: df_Hobart2. 2505 nans before cleaning (2.9 %)\n",
      "\tCleaning done: df_Hobart2. 79 nans remaining (0.1 %)\n",
      "\n",
      "---------------------------------------------------------------\n",
      "In progress: df_SalmonGums. 18854 nans before cleaning (23.3 %)\n",
      "\tCleaning done: df_SalmonGums. 17795 nans remaining (22.4 %)\n",
      "\n",
      "---------------------------------------------------------------\n",
      "In progress: df_Darwin. 196 nans before cleaning (0.2 %)\n",
      "\tCleaning done: df_Darwin. 76 nans remaining (0.1 %)\n",
      "\n",
      "---------------------------------------------------------------\n",
      "In progress: df_Katherine. 4392 nans before cleaning (10.3 %)\n",
      "\tCleaning done: df_Katherine. 1648 nans remaining (4.0 %)\n",
      "\n",
      "---------------------------------------------------------------\n",
      "In progress: df_Woomera. 2740 nans before cleaning (3.4 %)\n",
      "\tCleaning done: df_Woomera. 85 nans remaining (0.1 %)\n",
      "\n",
      "---------------------------------------------------------------\n",
      "In progress: df_MountGinini. 21801 nans before cleaning (26.6 %)\n",
      "\tCleaning done: df_MountGinini. 17342 nans remaining (22.8 %)\n",
      "\n",
      "---------------------------------------------------------------\n",
      "In progress: df_NorfolkIsland. 1096 nans before cleaning (1.3 %)\n",
      "\tCleaning done: df_NorfolkIsland. 78 nans remaining (0.1 %)\n",
      "\n",
      "---------------------------------------------------------------\n",
      "Cleaning complete.\n"
     ]
    },
    {
     "data": {
      "text/markdown": [
       "<br>Il y avait initialement <b>343248 valeurs manquantes</b> dans la base de données (<b>10.3 %</b> des données totales), répartis sur 145460 entrées.\n",
       "Le preprocessing a permis de réduire le nombre de valeurs manquantes à <b>57622</b> : <b>83.2 %</b> des valeurs manquantes initiales ont été remplacés.\n",
       "Après suppression de 4 colonnes comportant trop de valeurs manquantes, et suppression des valeurs manquantes restantes, il reste <b>129127 relevés</b> dans la base.\n",
       "Au total, <b>88.8 %</b> des relevés météorologiques ont été <b>conservés</b>.\n"
      ],
      "text/plain": [
       "<IPython.core.display.Markdown object>"
      ]
     },
     "metadata": {},
     "output_type": "display_data"
    },
    {
     "data": {
      "text/markdown": [
       "<h4><u>Performances du modèle</u></h4>\n",
       "<h5>Récapitulatif du modèle :</h5>\n",
       "<ul><li>Modèle <b>random forest</b>.</li>\n",
       "<li> préprocessing = <b>oversampling</b> puis <b>undersampling</b>.</li></ul>\n"
      ],
      "text/plain": [
       "<IPython.core.display.Markdown object>"
      ]
     },
     "metadata": {},
     "output_type": "display_data"
    },
    {
     "data": {
      "text/markdown": [
       "<h5>Résultats du modèle :</h5>\n",
       "<ul><li> Prédiction des <b>jours de pluie</b> avec une précision de <b>62.37 %</b> (<i>recall = <b>68.47 %</b>, f1-score = <b>65.28 %</b></i>)</li>\n",
       "<li> Prédiction des <b>jours sans pluie</b> avec une précision de <b>91.08 %</b> (<i>recall = <b>88.62 %</b>, f1-score = <b>89.83 %</b></i>)</li>.\n",
       "<li>La précision globale du modèle est de <b>84.27 %</b>.</li></ul>\n"
      ],
      "text/plain": [
       "<IPython.core.display.Markdown object>"
      ]
     },
     "metadata": {},
     "output_type": "display_data"
    },
    {
     "data": {
      "text/markdown": [
       "Les paramètres de ce premier modèle ont été fixés de façon plus ou moins arbritraire. Les \n",
       "performances de ce modèle sont globalement satisfaisantes, voire très satisfaisantes pour la détection des jours sans pluie.\n",
       "Il serait toutefois intéressant d'améliorer la prédiction de jours de pluie."
      ],
      "text/plain": [
       "<IPython.core.display.Markdown object>"
      ]
     },
     "metadata": {},
     "output_type": "display_data"
    },
    {
     "data": {
      "text/markdown": [
       "<h5><i>Rapport de classification :</i></h5>"
      ],
      "text/plain": [
       "<IPython.core.display.Markdown object>"
      ]
     },
     "metadata": {},
     "output_type": "display_data"
    },
    {
     "name": "stdout",
     "output_type": "stream",
     "text": [
      "              precision    recall  f1-score   support\n",
      "\n",
      "           0       0.91      0.89      0.90     20250\n",
      "           1       0.62      0.68      0.65      5576\n",
      "\n",
      "    accuracy                           0.84     25826\n",
      "   macro avg       0.77      0.79      0.78     25826\n",
      "weighted avg       0.85      0.84      0.85     25826\n",
      "\n"
     ]
    },
    {
     "data": {
      "text/markdown": [
       "<h5><i>Matrice de confusion : </i></h5>"
      ],
      "text/plain": [
       "<IPython.core.display.Markdown object>"
      ]
     },
     "metadata": {},
     "output_type": "display_data"
    },
    {
     "name": "stdout",
     "output_type": "stream",
     "text": [
      "Classe prédite      0     1\n",
      "Classe réelle              \n",
      "0               17946  2304\n",
      "1                1758  3818\n"
     ]
    }
   ],
   "source": [
    "display(Markdown(\"<h2><u><center>Essai d'amélioration du modèle</center></u></h2>\"))\n",
    "display(Markdown(\"<h4><u>Concept :</u></h4>\"))\n",
    "\n",
    "display(Markdown(\"\"\"Nous avons formulé l’hypothèse que la suppression de 8 variables pouvait limiter les performances \n",
    "du modèle, considérant que lesdites variables pouvaient influencer significativement la prédiction. Vu l’étendue du \n",
    "territoire australien et la diversité des climats présents, nous avions fait le choix de remplacer les valeurs manquantes \n",
    "station par station. Toutefois l’absence de valeurs sur des mois entiers empêchant de procéder à un tel remplacement, \n",
    "nous avons opté secondairement pour un rapprochement géographique. Sur les 49 stations, 6 n’étaient pas éligibles à un \n",
    "tel rapprochement avec au moins une autre station. Des 43 stations éligibles, nous avons procédé à un regroupement en \n",
    "15 groupes distincts, en suivant la concordance géographique selon une carte répertoriée sur le même site que les données.\n",
    "\"\"\"))\n",
    "\n",
    "display(Markdown(\"<h4><u>Préprocessing révisé :</u></h4>\"))\n",
    "\n",
    "df = pd.read_csv(\"weatherAUS.csv\")\n",
    "\n",
    "#Création de Year, Month & Day\n",
    "df[\"Year\"] = df[\"Date\"].apply(lambda x : int(x[:4]))\n",
    "df[\"Month\"] = df[\"Date\"].apply(lambda x : int(x[5:7]))\n",
    "df[\"Day\"] = df[\"Date\"].apply(lambda x : int(x[8:]))\n",
    "\n",
    "#Création du dictionnaire qui contient pour chaque état australier, les stations associées\n",
    "localites = {\"SA\" : [\"Adelaide\", \"MountGambier\", \"Woomera\", \"Nuriootpa\"],\n",
    "            \"WA\" : [\"Perth\", \"Albany\", \"PearceRAAF\", \"PerthAirport\", \"Walpole\", \"SalmonGums\", \"Witchcliffe\"],\n",
    "            \"NSW\" : [\"Canberra\", \"Sydney\", \"Albury\", \"Wollongong\", \"MountGinini\", \"Tuggeranong\", \"Penrith\", \"Newcastle\", \"Cobar\", \"SydneyAirport\", \"BadgerysCreek\", \"WaggaWagga\", \"Moree\", \"Williamtown\", \"CoffsHarbour\", \"NorahHead\", \"Richmond\"],\n",
    "            \"QLD\" : [\"Brisbane\", \"Townsville\", \"Cairns\", \"GoldCoast\"],\n",
    "            \"TAS\" : [\"Hobart\", \"Launceston\"],\n",
    "            \"VIC\" : [\"Melbourne\", \"Bendigo\", \"Ballarat\", \"Dartmoor\", \"Portland\", \"Mildura\", \"MelbourneAirport\", \"Sale\", \"Watsonia\", \"Nhil\"],\n",
    "            \"NT\" : [\"Darwin\", \"AliceSprings\", \"Katherine\", \"Uluru\"],\n",
    "            \"NI\" : [\"NorfolkIsland\"]}\n",
    "\n",
    "#Création de la colonne State\n",
    "df[\"State\"] = df.Location\n",
    "df[\"State\"] = df[\"State\"].replace(to_replace = [\"Adelaide\", \"MountGambier\", \"Woomera\", \"Nuriootpa\"], value = \"SA\")\n",
    "df[\"State\"] = df[\"State\"].replace(to_replace = [\"Perth\", \"Albany\", \"PearceRAAF\", \"PerthAirport\", \"Walpole\", \"SalmonGums\", \"Witchcliffe\"], value = \"WA\")\n",
    "df[\"State\"] = df[\"State\"].replace(to_replace = [\"Canberra\", \"Sydney\", \"Albury\", \"Wollongong\", \"MountGinini\", \"Tuggeranong\", \"Penrith\", \"Newcastle\", \"Cobar\", \"SydneyAirport\", \"BadgerysCreek\", \"WaggaWagga\", \"Moree\", \"Williamtown\", \"CoffsHarbour\", \"NorahHead\", \"Richmond\"], value = \"NSW\")\n",
    "df[\"State\"] = df[\"State\"].replace(to_replace = [\"Brisbane\", \"Townsville\", \"Cairns\", \"GoldCoast\"], value = \"QLD\")\n",
    "df[\"State\"] = df[\"State\"].replace(to_replace = [\"Hobart\", \"Launceston\"], value = \"TAS\")\n",
    "df[\"State\"] = df[\"State\"].replace(to_replace = [\"Melbourne\", \"Bendigo\", \"Ballarat\", \"Dartmoor\", \"Portland\", \"Mildura\", \"MelbourneAirport\", \"Sale\", \"Watsonia\", \"Nhil\"], value = \"VIC\")\n",
    "df[\"State\"] = df[\"State\"].replace(to_replace = [\"Darwin\", \"AliceSprings\", \"Katherine\", \"Uluru\"], value = \"NT\")\n",
    "df[\"State\"] = df[\"State\"].replace(to_replace = [\"NorfolkIsland\"], value = \"NI\")\n",
    "\n",
    "#Création des deux listes nécessaires au remplacement des nans.\n",
    "loclst = []\n",
    "locgroup = [\"NorfolkIsland\", \"Portland\", \"MountGinini\", \"Adelaide\", \"Darwin\", \"MountGambier\", \"GoldCoast\", \"Canberra\", \"Newcastle\", \"Woomera\",\n",
    "           \"Witchcliffe\", \"Moree\", \"Wollongong\", \"Bendigo\", \"Mildura\", \"WaggaWagga\", \"Dartmoor\",\"Hobart\", \"SalmonGums\", \"Williamtown\",\n",
    "            \"Townsville\", \"PerthAirport\", \"Sydney\", \"Perth\", \"Katherine\", \"Albury\", \"Ballarat\", \"MelbourneAirport\",\n",
    "           \"BagerysCreek\", \"Melbourne\", \"Cairns\", \"NorahHead\", \"PearceRAAF\", \"Uluru\", \"Nhil\", \"Sale\", \"Richmond\", \n",
    "            \"Cobar\", \"Penrith\", \"CoffsHarbour\", \"Nuriootpa\", \"Albany\", \"SydneyAirport\", \"Tuggeranong\",\n",
    "            \"Lauceston\", \"Brisbane\", \"Watsonia\", \"Walpole\", \"AliceSprings\"]\n",
    "\n",
    "#Boucle de remplacement géographique des nans\n",
    "for loc in locgroup:\n",
    "    loclst.append(df[df[\"Location\"] == loc])\n",
    "\n",
    "df_NorfolkIsland = loclst[0]  \n",
    "df_Portland = loclst[1]\n",
    "df_MountGinini = loclst[2]   \n",
    "df_Adelaide = loclst[3]\n",
    "df_Darwin = loclst[4]\n",
    "df_MountGambier = loclst[5]\n",
    "df_GoldCoast = loclst[6]\n",
    "df_Canberra = loclst[7]\n",
    "df_Newcastle = loclst[8]\n",
    "df_Woomera = loclst[9]\n",
    "df_Witchcliffe = loclst[10]\n",
    "df_Moree = loclst[11]\n",
    "df_Wollongong = loclst[12]\n",
    "df_Bendigo = loclst[13]\n",
    "df_Mildura = loclst[14]\n",
    "df_WaggaWagga = loclst[15]\n",
    "df_Dartmoor = loclst[16]\n",
    "df_Hobart = loclst[17]\n",
    "df_SalmonGums = loclst[18]\n",
    "df_Williamtown = loclst[19]\n",
    "df_Townsville = loclst[20]\n",
    "df_PerthAirport = loclst[21]\n",
    "df_Sydney = loclst[22]\n",
    "df_Perth = loclst[23]\n",
    "df_Katherine = loclst[24]\n",
    "df_Albury = loclst[25]\n",
    "df_Ballarat = loclst[26]\n",
    "df_MelbourneAirport = loclst[27]\n",
    "df_BadgerysCreek = loclst[28]\n",
    "df_Melbourne = loclst[29]\n",
    "df_Cairns = loclst[30]\n",
    "df_NorahHead = loclst[31]\n",
    "df_PearceRAAF = loclst[32]\n",
    "df_Uluru = loclst[33]\n",
    "df_Nhil = loclst[34]\n",
    "df_Sale = loclst[35]\n",
    "df_Richmond = loclst[36]\n",
    "df_Cobar = loclst[37]\n",
    "df_Penrith = loclst[38]\n",
    "df_CoffsHarbour = loclst[39]\n",
    "df_Nuriootpa = loclst[40]\n",
    "df_Albany = loclst[41]\n",
    "df_SydneyAirport = loclst[42]\n",
    "df_Tuggeranong = loclst[43]\n",
    "df_Lauceston = loclst[44]\n",
    "df_Brisbane = loclst[45]\n",
    "df_Watsonia = loclst[46]\n",
    "df_Walpole = loclst[47]\n",
    "df_AliceSprings = loclst[48]\n",
    "\n",
    "#Dictionnaire permettant le rappel des regroupements géographiques\n",
    "geogroup = {\"df_Perth2\" : \"Perth, PerthAirport, PearceRAAF\",\n",
    "           \"df_Albany2\" : \"Albany, Witchcliffe, Walpole\",\n",
    "           \"df_Alice2\" : \"AliceSprings, Uluru\",\n",
    "           \"df_Adelaide2\" : \"Adelaide, Nuriootpa\",\n",
    "           \"df_Nhil2\" : \"Nhil, Mildura, Bendigo\",\n",
    "           \"df_Portland2\" : \"Portland, Dartmoor, MountGambier\",\n",
    "           \"df_Melbourne2\" : \"Melbourne, MelbourneAirport, Ballarat, Watsonia, Sale\",\n",
    "           \"df_Albury2\" : \"Albury, WaggaWagga\",\n",
    "           \"df_Canberra2\" : \"Canberra, Tugganong\",\n",
    "           \"df_Sydney2\" : \"Sydney, SydneyAirport, Richmond, Penrith, BadgeryCreeks, Wollongong\",\n",
    "           \"df_Newcastle2\" : \"Newcastle, NorahHead, Williamtown\",\n",
    "           \"df_Cobar2\" : \"Cobar, Moree\",\n",
    "           \"df_Brisbane2\" : \"Brisbane, GoldCoast, CoffsHarbour\",\n",
    "           \"df_Cairns2\" : \"Townsville, Cairns\",\n",
    "           \"df_Hobart2\" : \"Hobart, Launceston\",\n",
    "           \"non_poolés\" : \"SalmonGums, Darwin, Katherine, Woomera, MountGinini, NorfolkIsland\"}\n",
    "\n",
    "#Création des dataframes pour remplacement des nans par regroupement géographique\n",
    "df_Perth2 = pd.concat([df_Perth, df_PerthAirport, df_PearceRAAF])\n",
    "df_Albany2 = pd.concat([df_Albany, df_Witchcliffe, df_Walpole])\n",
    "df_Alice2 = pd.concat([df_AliceSprings, df_Uluru])\n",
    "df_Adelaide2 = pd.concat([df_Adelaide, df_Nuriootpa])\n",
    "df_Nhil2 = pd.concat([df_Nhil, df_Mildura, df_Bendigo])\n",
    "df_Portland2 = pd.concat([df_Portland, df_Dartmoor, df_MountGambier])\n",
    "df_Melbourne2 = pd.concat([df_Melbourne, df_MelbourneAirport, df_Ballarat, df_Watsonia, df_Sale])\n",
    "df_Albury2 = pd.concat([df_Albury, df_WaggaWagga])\n",
    "df_Canberra2 = pd.concat([df_Canberra, df_Tuggeranong])\n",
    "df_Sydney2 = pd.concat([df_Sydney, df_SydneyAirport, df_Richmond, df_Penrith, df_BadgerysCreek, df_Wollongong])\n",
    "df_Newcastle2 = pd.concat([df_Newcastle, df_NorahHead, df_Williamtown])\n",
    "df_Cobar2 = pd.concat([df_Cobar, df_Moree])\n",
    "df_Brisbane2 = pd.concat([df_Brisbane, df_GoldCoast, df_CoffsHarbour])\n",
    "df_Cairns2 = pd.concat([df_Townsville, df_Cairns])\n",
    "df_Hobart2 = pd.concat([df_Hobart, df_Lauceston])\n",
    "\n",
    "geolist_brute = [df_Perth2, df_Albany2, df_Alice2, df_Adelaide2, df_Nhil2, df_Portland2, df_Melbourne2,\n",
    "df_Albury2, df_Canberra2, df_Sydney2, df_Newcastle2, df_Cobar2, df_Brisbane2, df_Cairns2, df_Hobart2,\n",
    "           df_SalmonGums, df_Darwin, df_Katherine, df_Woomera, df_MountGinini, df_NorfolkIsland]\n",
    "\n",
    "geolist_str = [\"df_Perth2\", \"df_Albany2\", \"df_Alice2\", \"df_Adelaide2\", \"df_Nhil2\", \"df_Portland2\", \"df_Melbourne2\",\n",
    "\"df_Albury2\", \"df_Canberra2\", \"df_Sydney2\", \"df_Newcastle2\", \"df_Cobar2\", \"df_Brisbane2\", \"df_Cairns2\", \"df_Hobart2\",\n",
    "           \"df_SalmonGums\", \"df_Darwin\", \"df_Katherine\", \"df_Woomera\", \"df_MountGinini\", \"df_NorfolkIsland\"]\n",
    "#Remplacement des nans et régénération des df groupés\n",
    "\n",
    "geolist_clean = []\n",
    "k = 0\n",
    "\n",
    "for df in geolist_brute:\n",
    "    df_temp = df\n",
    "    print(\"In progress: {}. {} nans before cleaning ({} %)\".format(geolist_str[k], geolist_brute[k].isna().sum().sum(), round(100*(geolist_brute[k].isna().sum().sum())/(geolist_brute[k].shape[0]*geolist_brute[k].shape[1]),1)))\n",
    "\n",
    "    #Elimination des nans sur RainToday et RainTomorrow\n",
    "    df_temp.dropna(axis = 0, how = \"any\", inplace = True, subset = [\"RainToday\", \"RainTomorrow\"])\n",
    "\n",
    "    for i in range(1,13,1):\n",
    "                  \n",
    "        #Remplacement des nans de MinTemp\n",
    "        df_temp.MinTemp[(df_temp[\"Month\"] == i) & (df_temp[\"RainToday\"] == \"Yes\")] = df_temp.MinTemp[(df_temp[\"Month\"] == i) & (df_temp[\"RainToday\"] == \"Yes\")].fillna(df_temp.MinTemp[(df_temp[\"Month\"] == i) & (df_temp[\"RainToday\"] == \"Yes\")].mean())\n",
    "        df_temp.MinTemp[(df_temp[\"Month\"] == i) & (df_temp[\"RainToday\"] == \"No\")] = df_temp.MinTemp[(df_temp[\"Month\"] == i) & (df_temp[\"RainToday\"] == \"No\")].fillna(df_temp.MinTemp[(df_temp[\"Month\"] == i) & (df_temp[\"RainToday\"] == \"No\")].mean())\n",
    "            \n",
    "        #Remplacement des nans de MaxTemp\n",
    "        df_temp.MaxTemp[(df_temp[\"Month\"] == i) & (df_temp[\"RainToday\"] == \"Yes\")] = df_temp.MaxTemp[(df_temp[\"Month\"] == i) & (df_temp[\"RainToday\"] == \"Yes\")].fillna(df_temp.MaxTemp[(df_temp[\"Month\"] == i) & (df_temp[\"RainToday\"] == \"Yes\")].mean())\n",
    "        df_temp.MaxTemp[(df_temp[\"Month\"] == i) & (df_temp[\"RainToday\"] == \"No\")] = df_temp.MaxTemp[(df_temp[\"Month\"] == i) & (df_temp[\"RainToday\"] == \"No\")].fillna(df_temp.MaxTemp[(df_temp[\"Month\"] == i) & (df_temp[\"RainToday\"] == \"No\")].mean())\n",
    "        \n",
    "        #Remplacement de Rainfall\n",
    "        df_temp.Rainfall[(df_temp[\"Month\"] == i) & (df_temp[\"RainToday\"] == \"Yes\")] = df_temp.Rainfall[(df_temp[\"Month\"] == i) & (df_temp[\"RainToday\"] == \"Yes\")].fillna(df_temp.Rainfall[(df_temp[\"Month\"] == i) & (df_temp[\"RainToday\"] == \"Yes\")].median())\n",
    "        df_temp.Rainfall[(df_temp[\"Month\"] == i) & (df_temp[\"RainToday\"] == \"No\")] = df_temp.Rainfall[(df_temp[\"Month\"] == i) & (df_temp[\"RainToday\"] == \"No\")].fillna(df_temp.Rainfall[(df_temp[\"Month\"] == i) & (df_temp[\"RainToday\"] == \"No\")].median())\n",
    "                \n",
    "        #Evaporation :\n",
    "        df_temp.Evaporation[(df_temp[\"Month\"] == i) & (df_temp[\"RainToday\"] == \"Yes\")] = df_temp.Evaporation[(df_temp[\"Month\"] == i) & (df_temp[\"RainToday\"] == \"Yes\")].fillna(df_temp.Evaporation[(df_temp[\"Month\"] == i) & (df_temp[\"RainToday\"] == \"Yes\")].median())\n",
    "        df_temp.Evaporation[(df_temp[\"Month\"] == i) & (df_temp[\"RainToday\"] == \"No\")] = df_temp.Evaporation[(df_temp[\"Month\"] == i) & (df_temp[\"RainToday\"] == \"No\")].fillna(df_temp.Evaporation[(df_temp[\"Month\"] == i) & (df_temp[\"RainToday\"] == \"No\")].median())\n",
    "        \n",
    "        #Sunshine :\n",
    "        df_temp.Sunshine[(df_temp[\"Month\"] == i) & (df_temp[\"RainToday\"] == \"Yes\")] = df_temp.Sunshine[(df_temp[\"Month\"] == i) & (df_temp[\"RainToday\"] == \"Yes\")].fillna(df_temp.Sunshine[(df_temp[\"Month\"] == i) & (df_temp[\"RainToday\"] == \"Yes\")].median())\n",
    "        df_temp.Sunshine[(df_temp[\"Month\"] == i) & (df_temp[\"RainToday\"] == \"No\")] = df_temp.Sunshine[(df_temp[\"Month\"] == i) & (df_temp[\"RainToday\"] == \"No\")].fillna(df_temp.Sunshine[(df_temp[\"Month\"] == i) & (df_temp[\"RainToday\"] == \"No\")].median())\n",
    "        \n",
    "        #WindGustdir :\n",
    "        df_temp.WindGustDir[(df_temp[\"Month\"] == i) & (df_temp[\"RainToday\"] == \"Yes\")] = df_temp.WindGustDir[(df_temp[\"Month\"] == i) & (df_temp[\"RainToday\"] == \"Yes\")].fillna(df_temp.WindGustDir[(df_temp[\"Month\"] == i) & (df_temp[\"RainToday\"] == \"Yes\")].mode())\n",
    "        df_temp.WindGustDir[(df_temp[\"Month\"] == i) & (df_temp[\"RainToday\"] == \"No\")] = df_temp.WindGustDir[(df_temp[\"Month\"] == i) & (df_temp[\"RainToday\"] == \"No\")].fillna(df_temp.WindGustDir[(df_temp[\"Month\"] == i) & (df_temp[\"RainToday\"] == \"No\")].mode())\n",
    "        \n",
    "        #WindGustSpeed :\n",
    "        df_temp.WindGustSpeed[(df_temp[\"Month\"] == i) & (df_temp[\"RainToday\"] == \"Yes\")] = df_temp.WindGustSpeed[(df_temp[\"Month\"] == i) & (df_temp[\"RainToday\"] == \"Yes\")].fillna(df_temp.WindGustSpeed[(df_temp[\"Month\"] == i) & (df_temp[\"RainToday\"] == \"Yes\")].mean())\n",
    "        df_temp.WindGustSpeed[(df_temp[\"Month\"] == i) & (df_temp[\"RainToday\"] == \"No\")] = df_temp.WindGustSpeed[(df_temp[\"Month\"] == i) & (df_temp[\"RainToday\"] == \"No\")].fillna(df_temp.WindGustSpeed[(df_temp[\"Month\"] == i) & (df_temp[\"RainToday\"] == \"No\")].mean())\n",
    "                \n",
    "        #WindDir9am :\n",
    "        df_temp.WindGustDir[(df_temp[\"Month\"] == i) & (df_temp[\"RainToday\"] == \"Yes\")] = df_temp.WindGustDir[(df_temp[\"Month\"] == i) & (df_temp[\"RainToday\"] == \"Yes\")].fillna(df_temp.WindGustDir[(df_temp[\"Month\"] == i) & (df_temp[\"RainToday\"] == \"Yes\")].mode([0]))\n",
    "        df_temp.WindGustDir[(df_temp[\"Month\"] == i) & (df_temp[\"RainToday\"] == \"No\")] = df_temp.WindGustDir[(df_temp[\"Month\"] == i) & (df_temp[\"RainToday\"] == \"No\")].fillna(df_temp.WindGustDir[(df_temp[\"Month\"] == i) & (df_temp[\"RainToday\"] == \"No\")].mode([0]))\n",
    "                \n",
    "        #WindDir3pm :\n",
    "        df_temp.WindGustDir[(df_temp[\"Month\"] == i) & (df_temp[\"RainToday\"] == \"Yes\")] = df_temp.WindGustDir[(df_temp[\"Month\"] == i) & (df_temp[\"RainToday\"] == \"Yes\")].fillna(df_temp.WindGustDir[(df_temp[\"Month\"] == i) & (df_temp[\"RainToday\"] == \"Yes\")].mode([0]))\n",
    "        df_temp.WindGustDir[(df_temp[\"Month\"] == i) & (df_temp[\"RainToday\"] == \"No\")] = df_temp.WindGustDir[(df_temp[\"Month\"] == i) & (df_temp[\"RainToday\"] == \"No\")].fillna(df_temp.WindGustDir[(df_temp[\"Month\"] == i) & (df_temp[\"RainToday\"] == \"No\")].mode([0]))\n",
    "        \n",
    "        #WindSpeed9am :\n",
    "        df_temp.WindSpeed9am[(df_temp[\"Month\"] == i) & (df_temp[\"RainToday\"] == \"Yes\")] = df_temp.WindSpeed9am[(df_temp[\"Month\"] == i) & (df_temp[\"RainToday\"] == \"Yes\")].fillna(df_temp.WindSpeed9am[(df_temp[\"Month\"] == i) & (df_temp[\"RainToday\"] == \"Yes\")].mean())\n",
    "        df_temp.WindSpeed9am[(df_temp[\"Month\"] == i) & (df_temp[\"RainToday\"] == \"No\")] = df_temp.WindSpeed9am[(df_temp[\"Month\"] == i) & (df_temp[\"RainToday\"] == \"No\")].fillna(df_temp.WindSpeed9am[(df_temp[\"Month\"] == i) & (df_temp[\"RainToday\"] == \"No\")].mean())\n",
    "        \n",
    "        #WindSpeed3pm :\n",
    "        df_temp.WindSpeed3pm[(df_temp[\"Month\"] == i) & (df_temp[\"RainToday\"] == \"Yes\")] = df_temp.WindSpeed3pm[(df_temp[\"Month\"] == i) & (df_temp[\"RainToday\"] == \"Yes\")].fillna(df_temp.WindSpeed3pm[(df_temp[\"Month\"] == i) & (df_temp[\"RainToday\"] == \"Yes\")].mean())\n",
    "        df_temp.WindSpeed3pm[(df_temp[\"Month\"] == i) & (df_temp[\"RainToday\"] == \"No\")] = df_temp.WindSpeed3pm[(df_temp[\"Month\"] == i) & (df_temp[\"RainToday\"] == \"No\")].fillna(df_temp.WindSpeed3pm[(df_temp[\"Month\"] == i) & (df_temp[\"RainToday\"] == \"No\")].mean())\n",
    "           \n",
    "        #Humidity9am\n",
    "        df_temp.Humidity9am[(df_temp[\"Month\"] == i) & (df_temp[\"RainToday\"] == \"Yes\")] = df_temp.Humidity9am[(df_temp[\"Month\"] == i) & (df_temp[\"RainToday\"] == \"Yes\")].fillna(df_temp.Humidity9am[(df_temp[\"Month\"] == i) & (df_temp[\"RainToday\"] == \"Yes\")].mean())\n",
    "        df_temp.Humidity9am[(df_temp[\"Month\"] == i) & (df_temp[\"RainToday\"] == \"No\")] = df_temp.Humidity9am[(df_temp[\"Month\"] == i) & (df_temp[\"RainToday\"] == \"No\")].fillna(df_temp.Humidity9am[(df_temp[\"Month\"] == i) & (df_temp[\"RainToday\"] == \"No\")].mean())\n",
    "            \n",
    "        #Humidity3pm\n",
    "        df_temp.Humidity3pm[(df_temp[\"Month\"] == i) & (df_temp[\"RainToday\"] == \"Yes\")] = df_temp.Humidity3pm[(df_temp[\"Month\"] == i) & (df_temp[\"RainToday\"] == \"Yes\")].fillna(df_temp.Humidity3pm[(df_temp[\"Month\"] == i) & (df_temp[\"RainToday\"] == \"Yes\")].mean())\n",
    "        df_temp.Humidity3pm[(df_temp[\"Month\"] == i) & (df_temp[\"RainToday\"] == \"No\")] = df_temp.Humidity3pm[(df_temp[\"Month\"] == i) & (df_temp[\"RainToday\"] == \"No\")].fillna(df_temp.Humidity3pm[(df_temp[\"Month\"] == i) & (df_temp[\"RainToday\"] == \"No\")].mean())\n",
    "\n",
    "        #Pressure9am\n",
    "        df_temp.Pressure9am[(df_temp[\"Month\"] == i) & (df_temp[\"RainToday\"] == \"Yes\")] = df_temp.Pressure9am[(df_temp[\"Month\"] == i) & (df_temp[\"RainToday\"] == \"Yes\")].fillna(df_temp.Pressure9am[(df_temp[\"Month\"] == i) & (df_temp[\"RainToday\"] == \"Yes\")].mean())\n",
    "        df_temp.Pressure9am[(df_temp[\"Month\"] == i) & (df_temp[\"RainToday\"] == \"No\")] = df_temp.Pressure9am[(df_temp[\"Month\"] == i) & (df_temp[\"RainToday\"] == \"No\")].fillna(df_temp.Pressure9am[(df_temp[\"Month\"] == i) & (df_temp[\"RainToday\"] == \"No\")].mean())\n",
    "\n",
    "        #Pressure9am\n",
    "        df_temp.Pressure3pm[(df_temp[\"Month\"] == i) & (df_temp[\"RainToday\"] == \"Yes\")] = df_temp.Pressure3pm[(df_temp[\"Month\"] == i) & (df_temp[\"RainToday\"] == \"Yes\")].fillna(df_temp.Pressure3pm[(df_temp[\"Month\"] == i) & (df_temp[\"RainToday\"] == \"Yes\")].mean())\n",
    "        df_temp.Pressure3pm[(df_temp[\"Month\"] == i) & (df_temp[\"RainToday\"] == \"No\")] = df_temp.Pressure3pm[(df_temp[\"Month\"] == i) & (df_temp[\"RainToday\"] == \"No\")].fillna(df_temp.Pressure3pm[(df_temp[\"Month\"] == i) & (df_temp[\"RainToday\"] == \"No\")].mean())\n",
    "\n",
    "        #Cloud9am\n",
    "        df_temp.Cloud9am[(df_temp[\"Month\"] == i) & (df_temp[\"RainToday\"] == \"Yes\")] = df_temp.Cloud9am[(df_temp[\"Month\"] == i) & (df_temp[\"RainToday\"] == \"Yes\")].fillna(df_temp.Cloud9am[(df_temp[\"Month\"] == i) & (df_temp[\"RainToday\"] == \"Yes\")].mean())\n",
    "        df_temp.Cloud9am[(df_temp[\"Month\"] == i) & (df_temp[\"RainToday\"] == \"No\")] = df_temp.Cloud9am[(df_temp[\"Month\"] == i) & (df_temp[\"RainToday\"] == \"No\")].fillna(df_temp.Cloud9am[(df_temp[\"Month\"] == i) & (df_temp[\"RainToday\"] == \"No\")].mean())\n",
    "\n",
    "        #Cloud3pm\n",
    "        df_temp.Cloud3pm[(df_temp[\"Month\"] == i) & (df_temp[\"RainToday\"] == \"Yes\")] = df_temp.Cloud3pm[(df_temp[\"Month\"] == i) & (df_temp[\"RainToday\"] == \"Yes\")].fillna(df_temp.Cloud3pm[(df_temp[\"Month\"] == i) & (df_temp[\"RainToday\"] == \"Yes\")].mean())\n",
    "        df_temp.Cloud3pm[(df_temp[\"Month\"] == i) & (df_temp[\"RainToday\"] == \"No\")] = df_temp.Cloud3pm[(df_temp[\"Month\"] == i) & (df_temp[\"RainToday\"] == \"No\")].fillna(df_temp.Cloud3pm[(df_temp[\"Month\"] == i) & (df_temp[\"RainToday\"] == \"No\")].mean())\n",
    "\n",
    "        #Temp9am\n",
    "        df_temp.Temp9am[(df_temp[\"Month\"] == i) & (df_temp[\"RainToday\"] == \"Yes\")] = df_temp.Temp9am[(df_temp[\"Month\"] == i) & (df_temp[\"RainToday\"] == \"Yes\")].fillna(df_temp.Temp9am[(df_temp[\"Month\"] == i) & (df_temp[\"RainToday\"] == \"Yes\")].mean())\n",
    "        df_temp.Temp9am[(df_temp[\"Month\"] == i) & (df_temp[\"RainToday\"] == \"No\")] = df_temp.Temp9am[(df_temp[\"Month\"] == i) & (df_temp[\"RainToday\"] == \"No\")].fillna(df_temp.Temp9am[(df_temp[\"Month\"] == i) & (df_temp[\"RainToday\"] == \"No\")].mean())\n",
    "            \n",
    "        #Temp3pm\n",
    "        df_temp.Temp3pm[(df_temp[\"Month\"] == i) & (df_temp[\"RainToday\"] == \"Yes\")] = df_temp.Temp3pm[(df_temp[\"Month\"] == i) & (df_temp[\"RainToday\"] == \"Yes\")].fillna(df_temp.Temp3pm[(df_temp[\"Month\"] == i) & (df_temp[\"RainToday\"] == \"Yes\")].mean())\n",
    "        df_temp.Temp3pm[(df_temp[\"Month\"] == i) & (df_temp[\"RainToday\"] == \"No\")] = df_temp.Temp3pm[(df_temp[\"Month\"] == i) & (df_temp[\"RainToday\"] == \"No\")].fillna(df_temp.Temp3pm[(df_temp[\"Month\"] == i) & (df_temp[\"RainToday\"] == \"No\")].mean())\n",
    "        \n",
    "    geolist_clean.append(df_temp)\n",
    "    print(\"\\tCleaning done: {}. {} nans remaining ({} %)\".format(geolist_str[k], df_temp.isna().sum().sum(), round(100*(df_temp.isna().sum().sum())/(df_temp.shape[0]*df_temp.shape[1]),1)))\n",
    "    print(\"\\n---------------------------------------------------------------\")\n",
    "    k+=1\n",
    "    \n",
    "print(\"Cleaning complete.\")\n",
    "\n",
    "df_Perth2 = geolist_clean[0]\n",
    "df_Albany2 = geolist_clean[1]\n",
    "df_Alice2 = geolist_clean[2]\n",
    "df_Adelaide2 = geolist_clean[3]\n",
    "df_Nhil2 = geolist_clean[4]\n",
    "df_Portland2 = geolist_clean[5]\n",
    "df_Melbourne2 = geolist_clean[6]\n",
    "df_Albury2 = geolist_clean[7]\n",
    "df_Canberra2 = geolist_clean[8]\n",
    "df_Sydney2 = geolist_clean[9]\n",
    "df_Newcastle2 = geolist_clean[10]\n",
    "df_Cobar2 = geolist_clean[11]\n",
    "df_Brisbane2 = geolist_clean[12]\n",
    "df_Cairns2 = geolist_clean[13]\n",
    "df_Hobart2 = geolist_clean[14]\n",
    "df_SalmonGums = geolist_clean[15]\n",
    "df_Darwin = geolist_clean[16]\n",
    "df_Katherine = geolist_clean[17]\n",
    "df_Woomera = geolist_clean[18]\n",
    "df_MountGinini = geolist_clean[19]\n",
    "df_NorfolkIsland = geolist_clean[20]\n",
    "\n",
    "#Reconstitution du df global\n",
    "\n",
    "data_full = pd.concat(geolist_clean)\n",
    "\n",
    "#Suppression des variables avec trop de nans\n",
    "\n",
    "data = data_full.drop([\"Sunshine\", \"WindGustDir\", \"WindDir9am\", \"WindDir3pm\"], axis = 1)\n",
    "\n",
    "#Supression des nans restant\n",
    "data = data.dropna()\n",
    "\n",
    "display(Markdown(\"\"\"<br>Il y avait initialement <b>{} valeurs manquantes</b> dans la base de données (<b>{} %</b> des données totales), répartis sur {} entrées.\n",
    "Le preprocessing a permis de réduire le nombre de valeurs manquantes à <b>{}</b> : <b>{} %</b> des valeurs manquantes initiales ont été remplacés.\n",
    "Après suppression de 4 colonnes comportant trop de valeurs manquantes, et suppression des valeurs manquantes restantes, il reste <b>{} relevés</b> dans la base.\n",
    "Au total, <b>{} %</b> des relevés météorologiques ont été <b>conservés</b>.\n",
    "\"\"\".format(\n",
    "    df_saved.isna().sum().sum(),\n",
    "    round(100*df_saved.isna().sum().sum()/(df_saved.shape[0]*df_saved.shape[1]),1),\n",
    "    df_saved.shape[0],\n",
    "    data_full.isna().sum().sum(),\n",
    "    100-round(100*data_full.isna().sum().sum()/df_saved.isna().sum().sum(), 1),\n",
    "    data.shape[0],\n",
    "    round(100*data.shape[0]/df_saved.shape[0],1)\n",
    ")))\n",
    "\n",
    "\n",
    "#WindSpeedDiff, HumidityDiff, TempDiff\n",
    "data[\"WindSpeedDiff\"] = data[\"WindSpeed3pm\"] - data[\"WindSpeed9am\"]\n",
    "data[\"HumidityDiff\"] = data[\"Humidity3pm\"] - data[\"Humidity9am\"]\n",
    "data[\"TempDiff\"] = data[\"Temp3pm\"] - data[\"Temp9am\"]\n",
    "\n",
    "#MinMaxDiff\n",
    "data[\"MinMaxDiff\"] = data[\"MaxTemp\"] - data[\"MinTemp\"]\n",
    "\n",
    "#PressureDiff\n",
    "data[\"PressureDiff\"] = data[\"Pressure3pm\"] - data[\"Pressure9am\"]\n",
    "\n",
    "#CloudDiff\n",
    "data[\"CloudDiff\"] = data[\"Cloud3pm\"] - data[\"Cloud9am\"]\n",
    "\n",
    "#Encodage de RainToday et RainTomorrow\n",
    "encoder = preprocessing.LabelEncoder()\n",
    "LE_cols = [\"RainToday\", \"RainTomorrow\"]\n",
    "for col in LE_cols:\n",
    "    data[col] = encoder.fit_transform(data[col])\n",
    "    \n",
    "feats = data.drop([\"RainTomorrow\", \"Date\", \"Year\", \"Month\", \"Day\", \"State\", \"Location\"], axis = 1)\n",
    "target = data[\"RainTomorrow\"]\n",
    "\n",
    "# On sépare les données en un ensemble d'apprentissage et un ensemble de test, avec le ratio 80/20\n",
    "X_train, X_test, y_train, y_test = train_test_split(feats, target, test_size = 0.2, random_state = 55)\n",
    "\n",
    "rf1 = RandomForestClassifier()\n",
    "\n",
    "over = RandomOverSampler(sampling_strategy = 0.6) # Fraction 60/40 \n",
    "under = RandomUnderSampler() \n",
    "\n",
    "X_ov, y_ov = over.fit_resample(X_train, y_train) \n",
    "X_res, y_res = under.fit_resample(X_ov, y_ov) \n",
    "\n",
    "rf1.fit(X_res, y_res)\n",
    "y_pred1 = rf1.predict(X_test)\n",
    "\n",
    "\n",
    "\n",
    "precis = metrics.classification_report(y_test, y_pred1, output_dict=True)\n",
    "\n",
    "display(Markdown(\"\"\"<h4><u>Performances du modèle</u></h4>\n",
    "<h5>Récapitulatif du modèle :</h5>\n",
    "<ul><li>Modèle <b>random forest</b>.</li>\n",
    "<li> préprocessing = <b>oversampling</b> puis <b>undersampling</b>.</li></ul>\n",
    "\"\"\"))\n",
    "\n",
    "display(Markdown(\"\"\"<h5>Résultats du modèle :</h5>\n",
    "<ul><li> Prédiction des <b>jours de pluie</b> avec une précision de <b>{} %</b> (<i>recall = <b>{} %</b>, f1-score = <b>{} %</b></i>)</li>\n",
    "<li> Prédiction des <b>jours sans pluie</b> avec une précision de <b>{} %</b> (<i>recall = <b>{} %</b>, f1-score = <b>{} %</b></i>)</li>.\n",
    "<li>La précision globale du modèle est de <b>{} %</b>.</li></ul>\n",
    "\"\"\".format(\n",
    "    round(100*precis[\"1\"][\"precision\"],2),\n",
    "    round(100*precis[\"1\"][\"recall\"],2),\n",
    "    round(100*precis[\"1\"][\"f1-score\"],2),\n",
    "    round(100*precis[\"0\"][\"precision\"],2),\n",
    "    round(100*precis[\"0\"][\"recall\"],2),\n",
    "    round(100*precis[\"0\"][\"f1-score\"],2),\n",
    "    round(100*precis[\"accuracy\"],2)\n",
    ")))\n",
    "\n",
    "display(Markdown(\"\"\"Les paramètres de ce premier modèle ont été fixés de façon plus ou moins arbritraire. Les \n",
    "performances de ce modèle sont globalement satisfaisantes, voire très satisfaisantes pour la détection des jours sans pluie.\n",
    "Il serait toutefois intéressant d'améliorer la prédiction de jours de pluie.\"\"\"))\n",
    "\n",
    "display(Markdown(\"<h5><i>Rapport de classification :</i></h5>\"))\n",
    "print(metrics.classification_report(y_test, y_pred1))\n",
    "\n",
    "display(Markdown(\"<h5><i>Matrice de confusion : </i></h5>\"))\n",
    "print(pd.crosstab(y_test, y_pred1, rownames = ['Classe réelle'], colnames = ['Classe prédite']))"
   ]
  }
 ],
 "metadata": {
  "kernelspec": {
   "display_name": "Python 3",
   "language": "python",
   "name": "python3"
  },
  "language_info": {
   "codemirror_mode": {
    "name": "ipython",
    "version": 3
   },
   "file_extension": ".py",
   "mimetype": "text/x-python",
   "name": "python",
   "nbconvert_exporter": "python",
   "pygments_lexer": "ipython3",
   "version": "3.8.8"
  }
 },
 "nbformat": 4,
 "nbformat_minor": 5
}
